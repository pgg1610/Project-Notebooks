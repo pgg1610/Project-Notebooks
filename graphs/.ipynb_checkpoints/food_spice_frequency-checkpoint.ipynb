{
 "cells": [
  {
   "cell_type": "markdown",
   "metadata": {},
   "source": [
    "# # Indian food dataset\n",
    "\n",
    "* Dataset for Indian recipe: This dataset 6000+ recipe [Link](https://www.kaggle.com/kanishk307/6000-indian-food-recipes-dataset)\n",
    "\n",
    "This dataset has points from Food Recipes (Especially Indian Food) Dataset"
   ]
  },
  {
   "cell_type": "code",
   "execution_count": 1,
   "metadata": {},
   "outputs": [],
   "source": [
    "import pandas as pd \n",
    "import numpy as np "
   ]
  },
  {
   "cell_type": "code",
   "execution_count": 2,
   "metadata": {},
   "outputs": [],
   "source": [
    "#----- PLOTTING PARAMS ----# \n",
    "import matplotlib.pyplot as plt\n",
    "from matplotlib.pyplot import cm\n",
    "%config InlineBackend.figure_format = 'retina'\n",
    " \n",
    "plot_params = {\n",
    "'font.size' : 22,\n",
    "'axes.titlesize' : 24,\n",
    "'axes.labelsize' : 20,\n",
    "'axes.labelweight' : 'bold',\n",
    "#'lines.linewidth' : 3,\n",
    "#'lines.markersize' : 10,\n",
    "'xtick.labelsize' : 16,\n",
    "'ytick.labelsize' : 16,\n",
    "}\n",
    " \n",
    "plt.rcParams.update(plot_params)"
   ]
  },
  {
   "cell_type": "markdown",
   "metadata": {},
   "source": [
    "### ### Read the dataset"
   ]
  },
  {
   "cell_type": "code",
   "execution_count": 3,
   "metadata": {},
   "outputs": [],
   "source": [
    "read_df = pd.read_csv('./archive/IndianFoodDatasetCSV.csv')"
   ]
  },
  {
   "cell_type": "code",
   "execution_count": 4,
   "metadata": {},
   "outputs": [
    {
     "data": {
      "text/plain": [
       "Index(['Srno', 'RecipeName', 'TranslatedRecipeName', 'Ingredients',\n",
       "       'TranslatedIngredients', 'PrepTimeInMins', 'CookTimeInMins',\n",
       "       'TotalTimeInMins', 'Servings', 'Cuisine', 'Course', 'Diet',\n",
       "       'Instructions', 'TranslatedInstructions', 'URL'],\n",
       "      dtype='object')"
      ]
     },
     "execution_count": 4,
     "metadata": {},
     "output_type": "execute_result"
    }
   ],
   "source": [
    "read_df.columns"
   ]
  },
  {
   "cell_type": "code",
   "execution_count": 5,
   "metadata": {},
   "outputs": [
    {
     "data": {
      "text/plain": [
       "(6871, 15)"
      ]
     },
     "execution_count": 5,
     "metadata": {},
     "output_type": "execute_result"
    }
   ],
   "source": [
    "read_df.shape"
   ]
  },
  {
   "cell_type": "code",
   "execution_count": 6,
   "metadata": {},
   "outputs": [],
   "source": [
    "columns_to_drop = ['CookTimeInMins', 'Servings', 'Course', 'Diet', 'Instructions', 'TranslatedInstructions', 'URL']\n",
    "read_df = read_df.drop(columns= columns_to_drop).dropna()"
   ]
  },
  {
   "cell_type": "code",
   "execution_count": 8,
   "metadata": {},
   "outputs": [],
   "source": [
    "# data seems to contain more than just indian cuisines, so I drop these\n",
    "cuisines_to_drop = ['Mexican', 'Italian Recipes', 'Thai', 'Chinese', 'Asian', 'Middle Eastern', 'European',\n",
    "                   'Arab', 'Japanese', 'Vietnamese', 'British', 'Greek', 'French', 'Mediterranean', 'Sri Lankan',\n",
    "                   'Indonesian', 'African', 'Korean', 'American', 'Carribbean', 'World Breakfast', 'Malaysian', 'Dessert',\n",
    "                   'Afghan', 'Snack', 'Jewish', 'Brunch', 'Lunch', 'Continental', 'Fusion']\n",
    "\n",
    "read_df = read_df.loc[ ~read_df['Cuisine'].isin(cuisines_to_drop) ]"
   ]
  },
  {
   "cell_type": "code",
   "execution_count": 9,
   "metadata": {},
   "outputs": [
    {
     "data": {
      "text/plain": [
       "(4881, 8)"
      ]
     },
     "execution_count": 9,
     "metadata": {},
     "output_type": "execute_result"
    }
   ],
   "source": [
    "read_df.shape"
   ]
  },
  {
   "cell_type": "code",
   "execution_count": 10,
   "metadata": {},
   "outputs": [
    {
     "data": {
      "text/html": [
       "<div>\n",
       "<style scoped>\n",
       "    .dataframe tbody tr th:only-of-type {\n",
       "        vertical-align: middle;\n",
       "    }\n",
       "\n",
       "    .dataframe tbody tr th {\n",
       "        vertical-align: top;\n",
       "    }\n",
       "\n",
       "    .dataframe thead th {\n",
       "        text-align: right;\n",
       "    }\n",
       "</style>\n",
       "<table border=\"1\" class=\"dataframe\">\n",
       "  <thead>\n",
       "    <tr style=\"text-align: right;\">\n",
       "      <th></th>\n",
       "      <th>Srno</th>\n",
       "      <th>RecipeName</th>\n",
       "      <th>TranslatedRecipeName</th>\n",
       "      <th>Ingredients</th>\n",
       "      <th>TranslatedIngredients</th>\n",
       "      <th>PrepTimeInMins</th>\n",
       "      <th>TotalTimeInMins</th>\n",
       "      <th>Cuisine</th>\n",
       "    </tr>\n",
       "  </thead>\n",
       "  <tbody>\n",
       "    <tr>\n",
       "      <th>0</th>\n",
       "      <td>1</td>\n",
       "      <td>Masala Karela Recipe</td>\n",
       "      <td>Masala Karela Recipe</td>\n",
       "      <td>6 Karela (Bitter Gourd/ Pavakkai) - deseeded,S...</td>\n",
       "      <td>6 Karela (Bitter Gourd/ Pavakkai) - deseeded,S...</td>\n",
       "      <td>15</td>\n",
       "      <td>45</td>\n",
       "      <td>Indian</td>\n",
       "    </tr>\n",
       "    <tr>\n",
       "      <th>1</th>\n",
       "      <td>2</td>\n",
       "      <td>टमाटर पुलियोगरे रेसिपी - Spicy Tomato Rice (Re...</td>\n",
       "      <td>Spicy Tomato Rice (Recipe)</td>\n",
       "      <td>2-1/2 कप चावल - पका ले,3 टमाटर,3 छोटा चमच्च बी...</td>\n",
       "      <td>2-1 / 2 cups rice - cooked, 3 tomatoes, 3 teas...</td>\n",
       "      <td>5</td>\n",
       "      <td>15</td>\n",
       "      <td>South Indian Recipes</td>\n",
       "    </tr>\n",
       "    <tr>\n",
       "      <th>2</th>\n",
       "      <td>3</td>\n",
       "      <td>Ragi Semiya Upma Recipe - Ragi Millet Vermicel...</td>\n",
       "      <td>Ragi Semiya Upma Recipe - Ragi Millet Vermicel...</td>\n",
       "      <td>1-1/2 cups Rice Vermicelli Noodles (Thin),1 On...</td>\n",
       "      <td>1-1/2 cups Rice Vermicelli Noodles (Thin),1 On...</td>\n",
       "      <td>20</td>\n",
       "      <td>50</td>\n",
       "      <td>South Indian Recipes</td>\n",
       "    </tr>\n",
       "    <tr>\n",
       "      <th>3</th>\n",
       "      <td>4</td>\n",
       "      <td>Gongura Chicken Curry Recipe - Andhra Style Go...</td>\n",
       "      <td>Gongura Chicken Curry Recipe - Andhra Style Go...</td>\n",
       "      <td>500 grams Chicken,2 Onion - chopped,1 Tomato -...</td>\n",
       "      <td>500 grams Chicken,2 Onion - chopped,1 Tomato -...</td>\n",
       "      <td>15</td>\n",
       "      <td>45</td>\n",
       "      <td>Andhra</td>\n",
       "    </tr>\n",
       "    <tr>\n",
       "      <th>4</th>\n",
       "      <td>5</td>\n",
       "      <td>आंध्रा स्टाइल आलम पचड़ी रेसिपी - Adrak Chutney ...</td>\n",
       "      <td>Andhra Style Alam Pachadi Recipe - Adrak Chutn...</td>\n",
       "      <td>1 बड़ा चमच्च चना दाल,1 बड़ा चमच्च सफ़ेद उरद दाल,2...</td>\n",
       "      <td>1 tablespoon chana dal, 1 tablespoon white ura...</td>\n",
       "      <td>10</td>\n",
       "      <td>30</td>\n",
       "      <td>Andhra</td>\n",
       "    </tr>\n",
       "  </tbody>\n",
       "</table>\n",
       "</div>"
      ],
      "text/plain": [
       "   Srno                                         RecipeName  \\\n",
       "0     1                               Masala Karela Recipe   \n",
       "1     2  टमाटर पुलियोगरे रेसिपी - Spicy Tomato Rice (Re...   \n",
       "2     3  Ragi Semiya Upma Recipe - Ragi Millet Vermicel...   \n",
       "3     4  Gongura Chicken Curry Recipe - Andhra Style Go...   \n",
       "4     5  आंध्रा स्टाइल आलम पचड़ी रेसिपी - Adrak Chutney ...   \n",
       "\n",
       "                                TranslatedRecipeName  \\\n",
       "0                               Masala Karela Recipe   \n",
       "1                         Spicy Tomato Rice (Recipe)   \n",
       "2  Ragi Semiya Upma Recipe - Ragi Millet Vermicel...   \n",
       "3  Gongura Chicken Curry Recipe - Andhra Style Go...   \n",
       "4  Andhra Style Alam Pachadi Recipe - Adrak Chutn...   \n",
       "\n",
       "                                         Ingredients  \\\n",
       "0  6 Karela (Bitter Gourd/ Pavakkai) - deseeded,S...   \n",
       "1  2-1/2 कप चावल - पका ले,3 टमाटर,3 छोटा चमच्च बी...   \n",
       "2  1-1/2 cups Rice Vermicelli Noodles (Thin),1 On...   \n",
       "3  500 grams Chicken,2 Onion - chopped,1 Tomato -...   \n",
       "4  1 बड़ा चमच्च चना दाल,1 बड़ा चमच्च सफ़ेद उरद दाल,2...   \n",
       "\n",
       "                               TranslatedIngredients  PrepTimeInMins  \\\n",
       "0  6 Karela (Bitter Gourd/ Pavakkai) - deseeded,S...              15   \n",
       "1  2-1 / 2 cups rice - cooked, 3 tomatoes, 3 teas...               5   \n",
       "2  1-1/2 cups Rice Vermicelli Noodles (Thin),1 On...              20   \n",
       "3  500 grams Chicken,2 Onion - chopped,1 Tomato -...              15   \n",
       "4  1 tablespoon chana dal, 1 tablespoon white ura...              10   \n",
       "\n",
       "   TotalTimeInMins               Cuisine  \n",
       "0               45                Indian  \n",
       "1               15  South Indian Recipes  \n",
       "2               50  South Indian Recipes  \n",
       "3               45                Andhra  \n",
       "4               30                Andhra  "
      ]
     },
     "execution_count": 10,
     "metadata": {},
     "output_type": "execute_result"
    }
   ],
   "source": [
    "read_df.head(5)"
   ]
  },
  {
   "cell_type": "code",
   "execution_count": 11,
   "metadata": {},
   "outputs": [],
   "source": [
    "def filter_english(string):\n",
    "    try:\n",
    "        string.encode('utf-8').decode('ascii')\n",
    "        out = True\n",
    "    except UnicodeDecodeError: \n",
    "        out = False\n",
    "    return out"
   ]
  },
  {
   "cell_type": "code",
   "execution_count": 12,
   "metadata": {},
   "outputs": [],
   "source": [
    "# Droping columns in the dataset having ingredients in language other than english \n",
    "df = read_df.loc[ read_df['TranslatedIngredients'].apply(filter_english) ]"
   ]
  },
  {
   "cell_type": "code",
   "execution_count": 13,
   "metadata": {},
   "outputs": [
    {
     "data": {
      "text/plain": [
       "(4273, 8)"
      ]
     },
     "execution_count": 13,
     "metadata": {},
     "output_type": "execute_result"
    }
   ],
   "source": [
    "df.shape"
   ]
  },
  {
   "cell_type": "markdown",
   "metadata": {},
   "source": [
    "## ## Generate a consistent list of Indian spices for better tabulation"
   ]
  },
  {
   "cell_type": "code",
   "execution_count": 64,
   "metadata": {},
   "outputs": [],
   "source": [
    "#read file of all indian spices on wikipedia\n",
    "wiki_file_pd = pd.read_html('https://en.wikipedia.org/wiki/List_of_Indian_spices')\n",
    "spices_list = wiki_file_pd[0]['Standard English'].copy().str.lower()\n",
    "\n",
    "#some important spices to add\n",
    "spices_to_add = pd.Series(['black mustard seed/raee', 'black salt', 'cumin powder', 'coriander leaves', 'green chillies', 'chili powder', 'ajwain/carom seeds/thymol', ])\n",
    "\n",
    "#some spices are too common (such as pepper) or not a spice, but a vegetable, or are otherwise corrupted (for example,\n",
    "#cardamom is often listed as \"cardamom\" nto specifying whether it is black or green)\n",
    "\n",
    "spices_to_drop = ['black pepper', 'capers', 'chili pepper powder', 'cinnamon buds', 'garlic', 'capsicum',\n",
    "                  'cumin seed ground into balls', 'dried ginger', 'green chili pepper', 'long pepper',\n",
    "                  'indian bedellium tree', 'mango extract', 'coriander powder', 'saffron pulp', 'black cardamom', 'brown mustard seed', 'black cumin']\n",
    "\n",
    "spices_list = spices_list[ ~spices_list.isin(spices_to_drop) ].append(spices_to_add).reset_index(drop=True)"
   ]
  },
  {
   "cell_type": "code",
   "execution_count": 65,
   "metadata": {},
   "outputs": [],
   "source": [
    "#editing the spices so that my string counter can find different versions of the same spice\n",
    "spices_list = spices_list.str.replace('amchoor', 'amchur/amchoor/mango extract') \\\n",
    "                    .replace('asafoetida', 'asafetida/asafoetida/hing') \\\n",
    "                    .replace('alkanet root', 'alkanet/alkanet root') \\\n",
    "                    .replace('chili powder', 'Chilli powder/kashmiri red chilli powder/chilli powder') \\\n",
    "                    .replace('celery / radhuni seed', 'celery/radhuni seed') \\\n",
    "                    .replace('bay leaf, indian bay leaf', 'bay leaf/bay leaves/tej patta') \\\n",
    "                    .replace('curry tree or sweet neem leaf', 'curry leaf/curry leaves') \\\n",
    "                    .replace('fenugreek leaf', 'fenugreek/kasoori') \\\n",
    "                    .replace('nigella seed', 'nigella/black cumin') \\\n",
    "                    .replace('ginger', 'dried ginger/ginger powder') \\\n",
    "                    .replace('cloves', 'cloves/laung') \\\n",
    "                    .replace('green cardamom', 'cardamom/black cardamom')\\\n",
    "                    .replace('indian gooseberry', 'indian gooseberry/amla')\\\n",
    "                    .replace('coriander seed', 'coriander seed/coriander powder')\\\n",
    "                    .replace('cumin powder', 'cumin powder/cumin seeds/cumin/jeera')"
   ]
  },
  {
   "cell_type": "code",
   "execution_count": 66,
   "metadata": {},
   "outputs": [
    {
     "data": {
      "text/plain": [
       "47                                       green chillies\n",
       "48    Chilli powder/kashmiri red chilli powder/chill...\n",
       "dtype: object"
      ]
     },
     "execution_count": 66,
     "metadata": {},
     "output_type": "execute_result"
    }
   ],
   "source": [
    "spices_list[spices_list.str.contains('chilli')]"
   ]
  },
  {
   "cell_type": "code",
   "execution_count": 67,
   "metadata": {},
   "outputs": [
    {
     "data": {
      "text/plain": [
       "0                                  alkanet/alkanet root\n",
       "1                          amchur/amchoor/mango extract\n",
       "2                             asafetida/asafoetida/hing\n",
       "3                                           peppercorns\n",
       "4                                   celery/radhuni seed\n",
       "5                                               charoli\n",
       "6                         bay leaf/bay leaves/tej patta\n",
       "7                                              cinnamon\n",
       "8                                           citric acid\n",
       "9                                          cloves/laung\n",
       "10                      coriander seed/coriander powder\n",
       "11                                                cubeb\n",
       "12                                           cumin seed\n",
       "13                              curry leaf/curry leaves\n",
       "14                                          fennel seed\n",
       "15                                    fenugreek/kasoori\n",
       "16                                       fenugreek seed\n",
       "17                                           four seeds\n",
       "18                                 garcinia gummi-gutta\n",
       "19                                         garam masala\n",
       "20                                      garcinia indica\n",
       "21                           dried ginger/ginger powder\n",
       "22                              cardamom/black cardamom\n",
       "23                               indian gooseberry/amla\n",
       "24                                               inknut\n",
       "25                                               jakhya\n",
       "26                                              kalpasi\n",
       "27                                      licorice powder\n",
       "28                                         mustard seed\n",
       "29                                  nigella/black cumin\n",
       "30                                               nutmeg\n",
       "31                                                 mace\n",
       "32                                         panch phoron\n",
       "33                                     pomegranate seed\n",
       "34                                           poppy seed\n",
       "35                                              saffron\n",
       "36                                          sesame seed\n",
       "37                                           star anise\n",
       "38                                             tamarind\n",
       "39                                    thymol/carom seed\n",
       "40                                             turmeric\n",
       "41                                       gum tragacanth\n",
       "42                                         white pepper\n",
       "43                              black mustard seed/raee\n",
       "44                                           black salt\n",
       "45                 cumin powder/cumin seeds/cumin/jeera\n",
       "46                                     coriander leaves\n",
       "47                                       green chillies\n",
       "48    Chilli powder/kashmiri red chilli powder/chill...\n",
       "49                            ajwain/carom seeds/thymol\n",
       "dtype: object"
      ]
     },
     "execution_count": 67,
     "metadata": {},
     "output_type": "execute_result"
    }
   ],
   "source": [
    "spices_list"
   ]
  },
  {
   "cell_type": "markdown",
   "metadata": {},
   "source": [
    "## ## Ingredients in the recipes"
   ]
  },
  {
   "cell_type": "code",
   "execution_count": 68,
   "metadata": {},
   "outputs": [],
   "source": [
    "ingredients_series = df['TranslatedIngredients']"
   ]
  },
  {
   "cell_type": "code",
   "execution_count": 69,
   "metadata": {},
   "outputs": [
    {
     "data": {
      "text/plain": [
       "860"
      ]
     },
     "execution_count": 69,
     "metadata": {},
     "output_type": "execute_result"
    }
   ],
   "source": [
    "len(ingredients_series[ingredients_series.str.contains('hing')])"
   ]
  },
  {
   "cell_type": "code",
   "execution_count": 70,
   "metadata": {},
   "outputs": [
    {
     "data": {
      "text/plain": [
       "Srno                                                                     3\n",
       "RecipeName               Ragi Semiya Upma Recipe - Ragi Millet Vermicel...\n",
       "TranslatedRecipeName     Ragi Semiya Upma Recipe - Ragi Millet Vermicel...\n",
       "Ingredients              1-1/2 cups Rice Vermicelli Noodles (Thin),1 On...\n",
       "TranslatedIngredients    1-1/2 cups Rice Vermicelli Noodles (Thin),1 On...\n",
       "PrepTimeInMins                                                          20\n",
       "TotalTimeInMins                                                         50\n",
       "Cuisine                                               South Indian Recipes\n",
       "Name: 2, dtype: object"
      ]
     },
     "execution_count": 70,
     "metadata": {},
     "output_type": "execute_result"
    }
   ],
   "source": [
    "df.iloc[2]"
   ]
  },
  {
   "cell_type": "markdown",
   "metadata": {},
   "source": [
    "## ## Using the spice_list to find the frequency "
   ]
  },
  {
   "cell_type": "code",
   "execution_count": 71,
   "metadata": {},
   "outputs": [],
   "source": [
    "spice_freq_df = pd.DataFrame(data=spices_list, columns=['spice name'])"
   ]
  },
  {
   "cell_type": "code",
   "execution_count": 72,
   "metadata": {},
   "outputs": [],
   "source": [
    "import re \n",
    "def search_spice(ingredient_string, spice_string):\n",
    "    spice_list = spice_string.split('/')\n",
    "    for _spice in spice_list:\n",
    "        if re.search(_spice, ingredient_string.lower()):\n",
    "            return True\n",
    "            break"
   ]
  },
  {
   "cell_type": "code",
   "execution_count": 73,
   "metadata": {},
   "outputs": [],
   "source": [
    "spice_list_freq = []\n",
    "for spice_entry in spices_list:\n",
    "    _count = 0\n",
    "    for ingredients_entry in ingredients_series:\n",
    "        if search_spice(ingredients_entry, spice_entry):\n",
    "            _count = _count + 1\n",
    "    spice_list_freq.append(_count)\n",
    "spice_freq_df['freq'] = spice_list_freq\n",
    "spice_freq_df['Percentage'] = spice_freq_df['freq'] / len(ingredients_series) * 100"
   ]
  },
  {
   "cell_type": "code",
   "execution_count": 74,
   "metadata": {},
   "outputs": [],
   "source": [
    "spice_freq_df['plot_name'] = spice_freq_df['spice name']"
   ]
  },
  {
   "cell_type": "code",
   "execution_count": 75,
   "metadata": {},
   "outputs": [],
   "source": [
    "#editing the spices so that my string counter can find different versions of the same spice\n",
    "spice_freq_df['plot_name'] = spice_freq_df['spice name'].str.replace('amchur/amchoor/mango extract', 'Amchoor') \\\n",
    "                    .replace('asafetida/asafoetida/hing', 'Asafoetida', ) \\\n",
    "                    .replace('alkanet/alkanet root', 'Alkanet root', ) \\\n",
    "                    .replace('Chilli powder/kashmiri red chilli powder/chilli powder', 'Chili powder') \\\n",
    "                    .replace('celery/radhuni seed', 'Celery seeds') \\\n",
    "                    .replace('bay leaf/bay leaves/tej patta', 'Bay leaf') \\\n",
    "                    .replace('curry leaf/curry leaves', 'Curry leaves') \\\n",
    "                    .replace('fenugreek/kasoori', 'Fenugreek') \\\n",
    "                    .replace('nigella/black cumin', 'Nigella seed', ) \\\n",
    "                    .replace('ginger', 'ginger/dried ginger/ginger powder') \\\n",
    "                    .replace('cloves/laung', 'Cloves') \\\n",
    "                    .replace('cardamom/black cardamom', 'Cardamom')\\\n",
    "                    .replace('indian gooseberry/amla', 'Indian gooseberry')\\\n",
    "                    .replace('coriander seed/coriander powder', 'Coriander seed & powder')\\\n",
    "                    .replace('cumin powder/cumin seeds/cumin/jeera', 'Cumin')\\\n",
    "                    .replace('dried ginger/ginger powder', 'Ginger powder')"
   ]
  },
  {
   "cell_type": "code",
   "execution_count": 76,
   "metadata": {},
   "outputs": [],
   "source": [
    "spice_freq_df['plot_name'] = spice_freq_df['plot_name'].str.title()"
   ]
  },
  {
   "cell_type": "code",
   "execution_count": 77,
   "metadata": {},
   "outputs": [
    {
     "data": {
      "text/html": [
       "<div>\n",
       "<style scoped>\n",
       "    .dataframe tbody tr th:only-of-type {\n",
       "        vertical-align: middle;\n",
       "    }\n",
       "\n",
       "    .dataframe tbody tr th {\n",
       "        vertical-align: top;\n",
       "    }\n",
       "\n",
       "    .dataframe thead th {\n",
       "        text-align: right;\n",
       "    }\n",
       "</style>\n",
       "<table border=\"1\" class=\"dataframe\">\n",
       "  <thead>\n",
       "    <tr style=\"text-align: right;\">\n",
       "      <th></th>\n",
       "      <th>spice name</th>\n",
       "      <th>freq</th>\n",
       "      <th>Percentage</th>\n",
       "      <th>plot_name</th>\n",
       "    </tr>\n",
       "  </thead>\n",
       "  <tbody>\n",
       "    <tr>\n",
       "      <th>0</th>\n",
       "      <td>alkanet/alkanet root</td>\n",
       "      <td>3</td>\n",
       "      <td>0.070208</td>\n",
       "      <td>Alkanet Root</td>\n",
       "    </tr>\n",
       "    <tr>\n",
       "      <th>1</th>\n",
       "      <td>amchur/amchoor/mango extract</td>\n",
       "      <td>213</td>\n",
       "      <td>4.984788</td>\n",
       "      <td>Amchoor</td>\n",
       "    </tr>\n",
       "    <tr>\n",
       "      <th>2</th>\n",
       "      <td>asafetida/asafoetida/hing</td>\n",
       "      <td>1051</td>\n",
       "      <td>24.596302</td>\n",
       "      <td>Asafoetida</td>\n",
       "    </tr>\n",
       "    <tr>\n",
       "      <th>3</th>\n",
       "      <td>peppercorns</td>\n",
       "      <td>350</td>\n",
       "      <td>8.190967</td>\n",
       "      <td>Peppercorns</td>\n",
       "    </tr>\n",
       "    <tr>\n",
       "      <th>4</th>\n",
       "      <td>celery/radhuni seed</td>\n",
       "      <td>34</td>\n",
       "      <td>0.795694</td>\n",
       "      <td>Celery Seeds</td>\n",
       "    </tr>\n",
       "    <tr>\n",
       "      <th>5</th>\n",
       "      <td>charoli</td>\n",
       "      <td>0</td>\n",
       "      <td>0.000000</td>\n",
       "      <td>Charoli</td>\n",
       "    </tr>\n",
       "    <tr>\n",
       "      <th>6</th>\n",
       "      <td>bay leaf/bay leaves/tej patta</td>\n",
       "      <td>457</td>\n",
       "      <td>10.695062</td>\n",
       "      <td>Bay Leaf</td>\n",
       "    </tr>\n",
       "    <tr>\n",
       "      <th>7</th>\n",
       "      <td>cinnamon</td>\n",
       "      <td>561</td>\n",
       "      <td>13.128949</td>\n",
       "      <td>Cinnamon</td>\n",
       "    </tr>\n",
       "    <tr>\n",
       "      <th>8</th>\n",
       "      <td>citric acid</td>\n",
       "      <td>2</td>\n",
       "      <td>0.046806</td>\n",
       "      <td>Citric Acid</td>\n",
       "    </tr>\n",
       "    <tr>\n",
       "      <th>9</th>\n",
       "      <td>cloves/laung</td>\n",
       "      <td>1211</td>\n",
       "      <td>28.340744</td>\n",
       "      <td>Cloves</td>\n",
       "    </tr>\n",
       "    <tr>\n",
       "      <th>10</th>\n",
       "      <td>coriander seed/coriander powder</td>\n",
       "      <td>869</td>\n",
       "      <td>20.337000</td>\n",
       "      <td>Coriander Seed &amp; Powder</td>\n",
       "    </tr>\n",
       "    <tr>\n",
       "      <th>11</th>\n",
       "      <td>cubeb</td>\n",
       "      <td>0</td>\n",
       "      <td>0.000000</td>\n",
       "      <td>Cubeb</td>\n",
       "    </tr>\n",
       "    <tr>\n",
       "      <th>12</th>\n",
       "      <td>cumin seed</td>\n",
       "      <td>1384</td>\n",
       "      <td>32.389422</td>\n",
       "      <td>Cumin Seed</td>\n",
       "    </tr>\n",
       "    <tr>\n",
       "      <th>13</th>\n",
       "      <td>curry leaf/curry leaves</td>\n",
       "      <td>1180</td>\n",
       "      <td>27.615259</td>\n",
       "      <td>Curry Leaves</td>\n",
       "    </tr>\n",
       "    <tr>\n",
       "      <th>14</th>\n",
       "      <td>fennel seed</td>\n",
       "      <td>308</td>\n",
       "      <td>7.208051</td>\n",
       "      <td>Fennel Seed</td>\n",
       "    </tr>\n",
       "    <tr>\n",
       "      <th>15</th>\n",
       "      <td>fenugreek/kasoori</td>\n",
       "      <td>554</td>\n",
       "      <td>12.965130</td>\n",
       "      <td>Fenugreek</td>\n",
       "    </tr>\n",
       "    <tr>\n",
       "      <th>16</th>\n",
       "      <td>fenugreek seed</td>\n",
       "      <td>308</td>\n",
       "      <td>7.208051</td>\n",
       "      <td>Fenugreek Seed</td>\n",
       "    </tr>\n",
       "    <tr>\n",
       "      <th>17</th>\n",
       "      <td>four seeds</td>\n",
       "      <td>0</td>\n",
       "      <td>0.000000</td>\n",
       "      <td>Four Seeds</td>\n",
       "    </tr>\n",
       "    <tr>\n",
       "      <th>18</th>\n",
       "      <td>garcinia gummi-gutta</td>\n",
       "      <td>0</td>\n",
       "      <td>0.000000</td>\n",
       "      <td>Garcinia Gummi-Gutta</td>\n",
       "    </tr>\n",
       "    <tr>\n",
       "      <th>19</th>\n",
       "      <td>garam masala</td>\n",
       "      <td>784</td>\n",
       "      <td>18.347765</td>\n",
       "      <td>Garam Masala</td>\n",
       "    </tr>\n",
       "    <tr>\n",
       "      <th>20</th>\n",
       "      <td>garcinia indica</td>\n",
       "      <td>0</td>\n",
       "      <td>0.000000</td>\n",
       "      <td>Garcinia Indica</td>\n",
       "    </tr>\n",
       "    <tr>\n",
       "      <th>21</th>\n",
       "      <td>dried ginger/ginger powder</td>\n",
       "      <td>58</td>\n",
       "      <td>1.357360</td>\n",
       "      <td>Ginger Powder</td>\n",
       "    </tr>\n",
       "    <tr>\n",
       "      <th>22</th>\n",
       "      <td>cardamom/black cardamom</td>\n",
       "      <td>760</td>\n",
       "      <td>17.786099</td>\n",
       "      <td>Cardamom</td>\n",
       "    </tr>\n",
       "    <tr>\n",
       "      <th>23</th>\n",
       "      <td>indian gooseberry/amla</td>\n",
       "      <td>17</td>\n",
       "      <td>0.397847</td>\n",
       "      <td>Indian Gooseberry</td>\n",
       "    </tr>\n",
       "    <tr>\n",
       "      <th>24</th>\n",
       "      <td>inknut</td>\n",
       "      <td>0</td>\n",
       "      <td>0.000000</td>\n",
       "      <td>Inknut</td>\n",
       "    </tr>\n",
       "    <tr>\n",
       "      <th>25</th>\n",
       "      <td>jakhya</td>\n",
       "      <td>0</td>\n",
       "      <td>0.000000</td>\n",
       "      <td>Jakhya</td>\n",
       "    </tr>\n",
       "    <tr>\n",
       "      <th>26</th>\n",
       "      <td>kalpasi</td>\n",
       "      <td>3</td>\n",
       "      <td>0.070208</td>\n",
       "      <td>Kalpasi</td>\n",
       "    </tr>\n",
       "    <tr>\n",
       "      <th>27</th>\n",
       "      <td>licorice powder</td>\n",
       "      <td>0</td>\n",
       "      <td>0.000000</td>\n",
       "      <td>Licorice Powder</td>\n",
       "    </tr>\n",
       "    <tr>\n",
       "      <th>28</th>\n",
       "      <td>mustard seed</td>\n",
       "      <td>1039</td>\n",
       "      <td>24.315469</td>\n",
       "      <td>Mustard Seed</td>\n",
       "    </tr>\n",
       "    <tr>\n",
       "      <th>29</th>\n",
       "      <td>nigella/black cumin</td>\n",
       "      <td>71</td>\n",
       "      <td>1.661596</td>\n",
       "      <td>Nigella Seed</td>\n",
       "    </tr>\n",
       "    <tr>\n",
       "      <th>30</th>\n",
       "      <td>nutmeg</td>\n",
       "      <td>65</td>\n",
       "      <td>1.521179</td>\n",
       "      <td>Nutmeg</td>\n",
       "    </tr>\n",
       "    <tr>\n",
       "      <th>31</th>\n",
       "      <td>mace</td>\n",
       "      <td>53</td>\n",
       "      <td>1.240346</td>\n",
       "      <td>Mace</td>\n",
       "    </tr>\n",
       "    <tr>\n",
       "      <th>32</th>\n",
       "      <td>panch phoron</td>\n",
       "      <td>0</td>\n",
       "      <td>0.000000</td>\n",
       "      <td>Panch Phoron</td>\n",
       "    </tr>\n",
       "    <tr>\n",
       "      <th>33</th>\n",
       "      <td>pomegranate seed</td>\n",
       "      <td>33</td>\n",
       "      <td>0.772291</td>\n",
       "      <td>Pomegranate Seed</td>\n",
       "    </tr>\n",
       "    <tr>\n",
       "      <th>34</th>\n",
       "      <td>poppy seed</td>\n",
       "      <td>139</td>\n",
       "      <td>3.252984</td>\n",
       "      <td>Poppy Seed</td>\n",
       "    </tr>\n",
       "    <tr>\n",
       "      <th>35</th>\n",
       "      <td>saffron</td>\n",
       "      <td>172</td>\n",
       "      <td>4.025275</td>\n",
       "      <td>Saffron</td>\n",
       "    </tr>\n",
       "    <tr>\n",
       "      <th>36</th>\n",
       "      <td>sesame seed</td>\n",
       "      <td>179</td>\n",
       "      <td>4.189094</td>\n",
       "      <td>Sesame Seed</td>\n",
       "    </tr>\n",
       "    <tr>\n",
       "      <th>37</th>\n",
       "      <td>star anise</td>\n",
       "      <td>74</td>\n",
       "      <td>1.731804</td>\n",
       "      <td>Star Anise</td>\n",
       "    </tr>\n",
       "    <tr>\n",
       "      <th>38</th>\n",
       "      <td>tamarind</td>\n",
       "      <td>511</td>\n",
       "      <td>11.958811</td>\n",
       "      <td>Tamarind</td>\n",
       "    </tr>\n",
       "    <tr>\n",
       "      <th>39</th>\n",
       "      <td>thymol/carom seed</td>\n",
       "      <td>223</td>\n",
       "      <td>5.218816</td>\n",
       "      <td>Thymol/Carom Seed</td>\n",
       "    </tr>\n",
       "    <tr>\n",
       "      <th>40</th>\n",
       "      <td>turmeric</td>\n",
       "      <td>2071</td>\n",
       "      <td>48.467119</td>\n",
       "      <td>Turmeric</td>\n",
       "    </tr>\n",
       "    <tr>\n",
       "      <th>41</th>\n",
       "      <td>gum tragacanth</td>\n",
       "      <td>0</td>\n",
       "      <td>0.000000</td>\n",
       "      <td>Gum Tragacanth</td>\n",
       "    </tr>\n",
       "    <tr>\n",
       "      <th>42</th>\n",
       "      <td>white pepper</td>\n",
       "      <td>7</td>\n",
       "      <td>0.163819</td>\n",
       "      <td>White Pepper</td>\n",
       "    </tr>\n",
       "    <tr>\n",
       "      <th>43</th>\n",
       "      <td>black mustard seed/raee</td>\n",
       "      <td>0</td>\n",
       "      <td>0.000000</td>\n",
       "      <td>Black Mustard Seed/Raee</td>\n",
       "    </tr>\n",
       "    <tr>\n",
       "      <th>44</th>\n",
       "      <td>black salt</td>\n",
       "      <td>70</td>\n",
       "      <td>1.638193</td>\n",
       "      <td>Black Salt</td>\n",
       "    </tr>\n",
       "    <tr>\n",
       "      <th>45</th>\n",
       "      <td>cumin powder/cumin seeds/cumin/jeera</td>\n",
       "      <td>1863</td>\n",
       "      <td>43.599345</td>\n",
       "      <td>Cumin</td>\n",
       "    </tr>\n",
       "    <tr>\n",
       "      <th>46</th>\n",
       "      <td>coriander leaves</td>\n",
       "      <td>32</td>\n",
       "      <td>0.748888</td>\n",
       "      <td>Coriander Leaves</td>\n",
       "    </tr>\n",
       "    <tr>\n",
       "      <th>47</th>\n",
       "      <td>green chillies</td>\n",
       "      <td>1274</td>\n",
       "      <td>29.815118</td>\n",
       "      <td>Green Chillies</td>\n",
       "    </tr>\n",
       "    <tr>\n",
       "      <th>48</th>\n",
       "      <td>Chilli powder/kashmiri red chilli powder/chill...</td>\n",
       "      <td>1622</td>\n",
       "      <td>37.959279</td>\n",
       "      <td>Chili Powder</td>\n",
       "    </tr>\n",
       "    <tr>\n",
       "      <th>49</th>\n",
       "      <td>ajwain/carom seeds/thymol</td>\n",
       "      <td>223</td>\n",
       "      <td>5.218816</td>\n",
       "      <td>Ajwain/Carom Seeds/Thymol</td>\n",
       "    </tr>\n",
       "  </tbody>\n",
       "</table>\n",
       "</div>"
      ],
      "text/plain": [
       "                                           spice name  freq  Percentage  \\\n",
       "0                                alkanet/alkanet root     3    0.070208   \n",
       "1                        amchur/amchoor/mango extract   213    4.984788   \n",
       "2                           asafetida/asafoetida/hing  1051   24.596302   \n",
       "3                                         peppercorns   350    8.190967   \n",
       "4                                 celery/radhuni seed    34    0.795694   \n",
       "5                                             charoli     0    0.000000   \n",
       "6                       bay leaf/bay leaves/tej patta   457   10.695062   \n",
       "7                                            cinnamon   561   13.128949   \n",
       "8                                         citric acid     2    0.046806   \n",
       "9                                        cloves/laung  1211   28.340744   \n",
       "10                    coriander seed/coriander powder   869   20.337000   \n",
       "11                                              cubeb     0    0.000000   \n",
       "12                                         cumin seed  1384   32.389422   \n",
       "13                            curry leaf/curry leaves  1180   27.615259   \n",
       "14                                        fennel seed   308    7.208051   \n",
       "15                                  fenugreek/kasoori   554   12.965130   \n",
       "16                                     fenugreek seed   308    7.208051   \n",
       "17                                         four seeds     0    0.000000   \n",
       "18                               garcinia gummi-gutta     0    0.000000   \n",
       "19                                       garam masala   784   18.347765   \n",
       "20                                    garcinia indica     0    0.000000   \n",
       "21                         dried ginger/ginger powder    58    1.357360   \n",
       "22                            cardamom/black cardamom   760   17.786099   \n",
       "23                             indian gooseberry/amla    17    0.397847   \n",
       "24                                             inknut     0    0.000000   \n",
       "25                                             jakhya     0    0.000000   \n",
       "26                                            kalpasi     3    0.070208   \n",
       "27                                    licorice powder     0    0.000000   \n",
       "28                                       mustard seed  1039   24.315469   \n",
       "29                                nigella/black cumin    71    1.661596   \n",
       "30                                             nutmeg    65    1.521179   \n",
       "31                                               mace    53    1.240346   \n",
       "32                                       panch phoron     0    0.000000   \n",
       "33                                   pomegranate seed    33    0.772291   \n",
       "34                                         poppy seed   139    3.252984   \n",
       "35                                            saffron   172    4.025275   \n",
       "36                                        sesame seed   179    4.189094   \n",
       "37                                         star anise    74    1.731804   \n",
       "38                                           tamarind   511   11.958811   \n",
       "39                                  thymol/carom seed   223    5.218816   \n",
       "40                                           turmeric  2071   48.467119   \n",
       "41                                     gum tragacanth     0    0.000000   \n",
       "42                                       white pepper     7    0.163819   \n",
       "43                            black mustard seed/raee     0    0.000000   \n",
       "44                                         black salt    70    1.638193   \n",
       "45               cumin powder/cumin seeds/cumin/jeera  1863   43.599345   \n",
       "46                                   coriander leaves    32    0.748888   \n",
       "47                                     green chillies  1274   29.815118   \n",
       "48  Chilli powder/kashmiri red chilli powder/chill...  1622   37.959279   \n",
       "49                          ajwain/carom seeds/thymol   223    5.218816   \n",
       "\n",
       "                    plot_name  \n",
       "0                Alkanet Root  \n",
       "1                     Amchoor  \n",
       "2                  Asafoetida  \n",
       "3                 Peppercorns  \n",
       "4                Celery Seeds  \n",
       "5                     Charoli  \n",
       "6                    Bay Leaf  \n",
       "7                    Cinnamon  \n",
       "8                 Citric Acid  \n",
       "9                      Cloves  \n",
       "10    Coriander Seed & Powder  \n",
       "11                      Cubeb  \n",
       "12                 Cumin Seed  \n",
       "13               Curry Leaves  \n",
       "14                Fennel Seed  \n",
       "15                  Fenugreek  \n",
       "16             Fenugreek Seed  \n",
       "17                 Four Seeds  \n",
       "18       Garcinia Gummi-Gutta  \n",
       "19               Garam Masala  \n",
       "20            Garcinia Indica  \n",
       "21              Ginger Powder  \n",
       "22                   Cardamom  \n",
       "23          Indian Gooseberry  \n",
       "24                     Inknut  \n",
       "25                     Jakhya  \n",
       "26                    Kalpasi  \n",
       "27            Licorice Powder  \n",
       "28               Mustard Seed  \n",
       "29               Nigella Seed  \n",
       "30                     Nutmeg  \n",
       "31                       Mace  \n",
       "32               Panch Phoron  \n",
       "33           Pomegranate Seed  \n",
       "34                 Poppy Seed  \n",
       "35                    Saffron  \n",
       "36                Sesame Seed  \n",
       "37                 Star Anise  \n",
       "38                   Tamarind  \n",
       "39          Thymol/Carom Seed  \n",
       "40                   Turmeric  \n",
       "41             Gum Tragacanth  \n",
       "42               White Pepper  \n",
       "43    Black Mustard Seed/Raee  \n",
       "44                 Black Salt  \n",
       "45                      Cumin  \n",
       "46           Coriander Leaves  \n",
       "47             Green Chillies  \n",
       "48               Chili Powder  \n",
       "49  Ajwain/Carom Seeds/Thymol  "
      ]
     },
     "execution_count": 77,
     "metadata": {},
     "output_type": "execute_result"
    }
   ],
   "source": [
    "spice_freq_df"
   ]
  },
  {
   "cell_type": "code",
   "execution_count": 78,
   "metadata": {},
   "outputs": [],
   "source": [
    "spice_freq_df = spice_freq_df.sort_values('freq', ascending=False)[:10]"
   ]
  },
  {
   "cell_type": "code",
   "execution_count": 80,
   "metadata": {},
   "outputs": [
    {
     "data": {
      "text/plain": [
       "Text(0.5, 0, 'Percentage of recipes containing the spice')"
      ]
     },
     "execution_count": 80,
     "metadata": {},
     "output_type": "execute_result"
    },
    {
     "data": {
      "image/png": "[encoded data removed]",
      "text/plain": [
       "<Figure size 720x720 with 1 Axes>"
      ]
     },
     "metadata": {
      "image/png": {
       "height": 604,
       "width": 784
      },
      "needs_background": "light"
     },
     "output_type": "display_data"
    }
   ],
   "source": [
    "import seaborn as sns\n",
    "fig, ax = plt.subplots(1,1, figsize=(10,10))\n",
    "sns.barplot(x=\"Percentage\", y=\"plot_name\", data=spice_freq_df, orientation = 'horizontal', palette='viridis', ax=ax)\n",
    "sns.despine()\n",
    "ax.set_ylabel('')\n",
    "ax.set_xlabel('Percentage of recipes containing the spice')"
   ]
  },
  {
   "cell_type": "code",
   "execution_count": null,
   "metadata": {},
   "outputs": [],
   "source": []
  }
 ],
 "metadata": {
  "kernelspec": {
   "display_name": "Python 3",
   "language": "python",
   "name": "python3"
  },
  "language_info": {
   "codemirror_mode": {
    "name": "ipython",
    "version": 3
   },
   "file_extension": ".py",
   "mimetype": "text/x-python",
   "name": "python",
   "nbconvert_exporter": "python",
   "pygments_lexer": "ipython3",
   "version": "3.6.11"
  }
 },
 "nbformat": 4,
 "nbformat_minor": 4
}
