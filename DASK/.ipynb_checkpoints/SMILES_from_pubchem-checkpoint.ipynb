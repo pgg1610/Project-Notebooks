{
 "cells": [
  {
   "cell_type": "markdown",
   "metadata": {},
   "source": [
    "## Get SMILES from PubChem\n",
    "\n",
    "Dask implementation to acquire `CanonicalSMILES` from PubChem using the `pubchem` API. At the end of the notebook there is another dask based implementation of using `RDKit` to get InChIKey from the SMILES. While Dask is not necessary required in the case of InChIKeys it is a much more elegant implementation of `dask.dataframes` and `map_partitions` "
   ]
  },
  {
   "cell_type": "code",
   "execution_count": 1,
   "metadata": {},
   "outputs": [],
   "source": [
    "import time\n",
    "import pubchempy as pcp\n",
    "from pubchempy import Compound, get_compounds\n",
    "import pandas as pd\n",
    "import numpy as np\n",
    "import re\n",
    "import copy"
   ]
  },
  {
   "cell_type": "markdown",
   "metadata": {},
   "source": [
    "## Get SMILES from Pubchem\n",
    "> Update: Parallelized using dask"
   ]
  },
  {
   "cell_type": "code",
   "execution_count": 2,
   "metadata": {},
   "outputs": [],
   "source": [
    "df_100 = pd.read_csv('CTA_training_Co_100.csv', sep=',', header=0)"
   ]
  },
  {
   "cell_type": "code",
   "execution_count": 3,
   "metadata": {},
   "outputs": [
    {
     "data": {
      "text/html": [
       "<div>\n",
       "<style scoped>\n",
       "    .dataframe tbody tr th:only-of-type {\n",
       "        vertical-align: middle;\n",
       "    }\n",
       "\n",
       "    .dataframe tbody tr th {\n",
       "        vertical-align: top;\n",
       "    }\n",
       "\n",
       "    .dataframe thead th {\n",
       "        text-align: right;\n",
       "    }\n",
       "</style>\n",
       "<table border=\"1\" class=\"dataframe\">\n",
       "  <thead>\n",
       "    <tr style=\"text-align: right;\">\n",
       "      <th></th>\n",
       "      <th>CTA</th>\n",
       "      <th>Co</th>\n",
       "      <th>CTA_lower</th>\n",
       "    </tr>\n",
       "  </thead>\n",
       "  <tbody>\n",
       "    <tr>\n",
       "      <th>113</th>\n",
       "      <td>dipentene dimercaptan</td>\n",
       "      <td>4.8</td>\n",
       "      <td>dipentene dimercaptan</td>\n",
       "    </tr>\n",
       "  </tbody>\n",
       "</table>\n",
       "</div>"
      ],
      "text/plain": [
       "                       CTA   Co              CTA_lower\n",
       "113  dipentene dimercaptan  4.8  dipentene dimercaptan"
      ]
     },
     "execution_count": 3,
     "metadata": {},
     "output_type": "execute_result"
    }
   ],
   "source": [
    "df_100[df_100['CTA_lower'].str.match('dipentene dimercaptan')== True]"
   ]
  },
  {
   "cell_type": "code",
   "execution_count": 4,
   "metadata": {},
   "outputs": [
    {
     "data": {
      "text/html": [
       "<div>\n",
       "<style scoped>\n",
       "    .dataframe tbody tr th:only-of-type {\n",
       "        vertical-align: middle;\n",
       "    }\n",
       "\n",
       "    .dataframe tbody tr th {\n",
       "        vertical-align: top;\n",
       "    }\n",
       "\n",
       "    .dataframe thead th {\n",
       "        text-align: right;\n",
       "    }\n",
       "</style>\n",
       "<table border=\"1\" class=\"dataframe\">\n",
       "  <thead>\n",
       "    <tr style=\"text-align: right;\">\n",
       "      <th></th>\n",
       "      <th>CTA</th>\n",
       "      <th>Co</th>\n",
       "      <th>CTA_lower</th>\n",
       "    </tr>\n",
       "  </thead>\n",
       "  <tbody>\n",
       "    <tr>\n",
       "      <th>121</th>\n",
       "      <td>Diisobutylphosphine</td>\n",
       "      <td>80.0</td>\n",
       "      <td>diisobutylphosphine</td>\n",
       "    </tr>\n",
       "    <tr>\n",
       "      <th>108</th>\n",
       "      <td>2-butanethiol</td>\n",
       "      <td>56.0</td>\n",
       "      <td>2-butanethiol</td>\n",
       "    </tr>\n",
       "    <tr>\n",
       "      <th>139</th>\n",
       "      <td>ethyl 2-chloroacetoacetate</td>\n",
       "      <td>50.0</td>\n",
       "      <td>ethyl 2-chloroacetoacetate</td>\n",
       "    </tr>\n",
       "    <tr>\n",
       "      <th>122</th>\n",
       "      <td>4,8-dimethyl-2-phosphabicyclo[3.3.1]nonane</td>\n",
       "      <td>43.0</td>\n",
       "      <td>4,8-dimethyl-2-phosphabicyclo[3.3.1]nonane</td>\n",
       "    </tr>\n",
       "    <tr>\n",
       "      <th>112</th>\n",
       "      <td>t-dodecylmercaptan</td>\n",
       "      <td>22.0</td>\n",
       "      <td>t-dodecylmercaptan</td>\n",
       "    </tr>\n",
       "    <tr>\n",
       "      <th>...</th>\n",
       "      <td>...</td>\n",
       "      <td>...</td>\n",
       "      <td>...</td>\n",
       "    </tr>\n",
       "    <tr>\n",
       "      <th>136</th>\n",
       "      <td>4-nitrotoluene</td>\n",
       "      <td>0.0</td>\n",
       "      <td>4-nitrotoluene</td>\n",
       "    </tr>\n",
       "    <tr>\n",
       "      <th>152</th>\n",
       "      <td>diethyl malonate</td>\n",
       "      <td>0.0</td>\n",
       "      <td>diethyl malonate</td>\n",
       "    </tr>\n",
       "    <tr>\n",
       "      <th>151</th>\n",
       "      <td>diethyl isopropylidenemalonate</td>\n",
       "      <td>0.0</td>\n",
       "      <td>diethyl isopropylidenemalonate</td>\n",
       "    </tr>\n",
       "    <tr>\n",
       "      <th>146</th>\n",
       "      <td>trimethyl orthoformate</td>\n",
       "      <td>0.0</td>\n",
       "      <td>trimethyl orthoformate</td>\n",
       "    </tr>\n",
       "    <tr>\n",
       "      <th>0</th>\n",
       "      <td>Cyclopropane</td>\n",
       "      <td>0.0</td>\n",
       "      <td>cyclopropane</td>\n",
       "    </tr>\n",
       "  </tbody>\n",
       "</table>\n",
       "<p>167 rows × 3 columns</p>\n",
       "</div>"
      ],
      "text/plain": [
       "                                            CTA    Co  \\\n",
       "121                         Diisobutylphosphine  80.0   \n",
       "108                               2-butanethiol  56.0   \n",
       "139                  ethyl 2-chloroacetoacetate  50.0   \n",
       "122  4,8-dimethyl-2-phosphabicyclo[3.3.1]nonane  43.0   \n",
       "112                          t-dodecylmercaptan  22.0   \n",
       "..                                          ...   ...   \n",
       "136                              4-nitrotoluene   0.0   \n",
       "152                            diethyl malonate   0.0   \n",
       "151              diethyl isopropylidenemalonate   0.0   \n",
       "146                      trimethyl orthoformate   0.0   \n",
       "0                                  Cyclopropane   0.0   \n",
       "\n",
       "                                      CTA_lower  \n",
       "121                         diisobutylphosphine  \n",
       "108                               2-butanethiol  \n",
       "139                  ethyl 2-chloroacetoacetate  \n",
       "122  4,8-dimethyl-2-phosphabicyclo[3.3.1]nonane  \n",
       "112                          t-dodecylmercaptan  \n",
       "..                                          ...  \n",
       "136                              4-nitrotoluene  \n",
       "152                            diethyl malonate  \n",
       "151              diethyl isopropylidenemalonate  \n",
       "146                      trimethyl orthoformate  \n",
       "0                                  cyclopropane  \n",
       "\n",
       "[167 rows x 3 columns]"
      ]
     },
     "execution_count": 4,
     "metadata": {},
     "output_type": "execute_result"
    }
   ],
   "source": [
    "df_100.sort_values(['Co'],ascending=False)"
   ]
  },
  {
   "cell_type": "code",
   "execution_count": 5,
   "metadata": {},
   "outputs": [
    {
     "data": {
      "text/html": [
       "<table style=\"border: 2px solid white;\">\n",
       "<tr>\n",
       "<td style=\"vertical-align: top; border: 0px solid white\">\n",
       "<h3 style=\"text-align: left;\">Client</h3>\n",
       "<ul style=\"text-align: left; list-style: none; margin: 0; padding: 0;\">\n",
       "  <li><b>Scheduler: </b>tcp://127.0.0.1:35441</li>\n",
       "  <li><b>Dashboard: </b><a href='http://127.0.0.1:8787/status' target='_blank'>http://127.0.0.1:8787/status</a></li>\n",
       "</ul>\n",
       "</td>\n",
       "<td style=\"vertical-align: top; border: 0px solid white\">\n",
       "<h3 style=\"text-align: left;\">Cluster</h3>\n",
       "<ul style=\"text-align: left; list-style:none; margin: 0; padding: 0;\">\n",
       "  <li><b>Workers: </b>10</li>\n",
       "  <li><b>Cores: </b>80</li>\n",
       "  <li><b>Memory: </b>540.94 GB</li>\n",
       "</ul>\n",
       "</td>\n",
       "</tr>\n",
       "</table>"
      ],
      "text/plain": [
       "<Client: 'tcp://127.0.0.1:35441' processes=10 threads=80, memory=540.94 GB>"
      ]
     },
     "execution_count": 5,
     "metadata": {},
     "output_type": "execute_result"
    }
   ],
   "source": [
    "from dask.distributed import Client, progress\n",
    "import dask.dataframe as dd\n",
    "from dask import delayed, compute\n",
    "from dask.multiprocessing import get\n",
    "client = Client()\n",
    "client"
   ]
  },
  {
   "cell_type": "code",
   "execution_count": 6,
   "metadata": {},
   "outputs": [],
   "source": [
    "def get_name(cta_name):\n",
    "    try:\n",
    "        #delayed(f)(x, args=a)\n",
    "        name = delayed(pcp.get_properties)(['CanonicalSMILES'], cta_name, 'name')\n",
    "        time.sleep(5)\n",
    "        smile = name[0]['CanonicalSMILES']\n",
    "    except:\n",
    "        smile = 'X'\n",
    "        print(cta_name, smile)\n",
    "    return smile\n",
    "\n",
    "def dask_smiles(df):\n",
    "    df['CanonicalSMILES'] = df['CTA'].map(get_name)\n",
    "    return df #Map paritions works here -- but not with to_list() in the previous implementation "
   ]
  },
  {
   "cell_type": "code",
   "execution_count": 7,
   "metadata": {},
   "outputs": [],
   "source": [
    "df_dask = dd.from_pandas(df_100, npartitions=10)"
   ]
  },
  {
   "cell_type": "code",
   "execution_count": 10,
   "metadata": {},
   "outputs": [
    {
     "data": {
      "text/html": [
       "<div><strong>Dask DataFrame Structure:</strong></div>\n",
       "<div>\n",
       "<style scoped>\n",
       "    .dataframe tbody tr th:only-of-type {\n",
       "        vertical-align: middle;\n",
       "    }\n",
       "\n",
       "    .dataframe tbody tr th {\n",
       "        vertical-align: top;\n",
       "    }\n",
       "\n",
       "    .dataframe thead th {\n",
       "        text-align: right;\n",
       "    }\n",
       "</style>\n",
       "<table border=\"1\" class=\"dataframe\">\n",
       "  <thead>\n",
       "    <tr style=\"text-align: right;\">\n",
       "      <th></th>\n",
       "      <th>CTA</th>\n",
       "      <th>Co</th>\n",
       "      <th>CTA_lower</th>\n",
       "    </tr>\n",
       "    <tr>\n",
       "      <th>npartitions=10</th>\n",
       "      <th></th>\n",
       "      <th></th>\n",
       "      <th></th>\n",
       "    </tr>\n",
       "  </thead>\n",
       "  <tbody>\n",
       "    <tr>\n",
       "      <th>0</th>\n",
       "      <td>object</td>\n",
       "      <td>float64</td>\n",
       "      <td>object</td>\n",
       "    </tr>\n",
       "    <tr>\n",
       "      <th>17</th>\n",
       "      <td>...</td>\n",
       "      <td>...</td>\n",
       "      <td>...</td>\n",
       "    </tr>\n",
       "    <tr>\n",
       "      <th>...</th>\n",
       "      <td>...</td>\n",
       "      <td>...</td>\n",
       "      <td>...</td>\n",
       "    </tr>\n",
       "    <tr>\n",
       "      <th>153</th>\n",
       "      <td>...</td>\n",
       "      <td>...</td>\n",
       "      <td>...</td>\n",
       "    </tr>\n",
       "    <tr>\n",
       "      <th>166</th>\n",
       "      <td>...</td>\n",
       "      <td>...</td>\n",
       "      <td>...</td>\n",
       "    </tr>\n",
       "  </tbody>\n",
       "</table>\n",
       "</div>\n",
       "<div>Dask Name: from_pandas, 10 tasks</div>"
      ],
      "text/plain": [
       "Dask DataFrame Structure:\n",
       "                   CTA       Co CTA_lower\n",
       "npartitions=10                           \n",
       "0               object  float64    object\n",
       "17                 ...      ...       ...\n",
       "...                ...      ...       ...\n",
       "153                ...      ...       ...\n",
       "166                ...      ...       ...\n",
       "Dask Name: from_pandas, 10 tasks"
      ]
     },
     "execution_count": 10,
     "metadata": {},
     "output_type": "execute_result"
    }
   ],
   "source": [
    "df_dask"
   ]
  },
  {
   "cell_type": "code",
   "execution_count": 11,
   "metadata": {},
   "outputs": [
    {
     "data": {
      "image/png": "[encoded data removed]",
      "text/plain": [
       "<IPython.core.display.Image object>"
      ]
     },
     "execution_count": 11,
     "metadata": {},
     "output_type": "execute_result"
    }
   ],
   "source": [
    "df_dask.visualize()"
   ]
  },
  {
   "cell_type": "code",
   "execution_count": 12,
   "metadata": {},
   "outputs": [
    {
     "name": "stdout",
     "output_type": "stream",
     "text": [
      "CPU times: user 640 ms, sys: 193 ms, total: 833 ms\n",
      "Wall time: 10 s\n"
     ]
    }
   ],
   "source": [
    "%time ddf_out  = df_dask.map_partitions(dask_smiles)"
   ]
  },
  {
   "cell_type": "code",
   "execution_count": 13,
   "metadata": {},
   "outputs": [
    {
     "data": {
      "image/png": "[encoded data removed]",
      "text/plain": [
       "<IPython.core.display.Image object>"
      ]
     },
     "execution_count": 13,
     "metadata": {},
     "output_type": "execute_result"
    }
   ],
   "source": [
    "ddf_out.visualize()"
   ]
  },
  {
   "cell_type": "code",
   "execution_count": 14,
   "metadata": {},
   "outputs": [
    {
     "name": "stdout",
     "output_type": "stream",
     "text": [
      "CPU times: user 5.55 s, sys: 1.6 s, total: 7.15 s\n",
      "Wall time: 1min 25s\n"
     ]
    }
   ],
   "source": [
    "%time results = ddf_out.persist(scheduler=client).compute()"
   ]
  },
  {
   "cell_type": "code",
   "execution_count": 20,
   "metadata": {},
   "outputs": [
    {
     "data": {
      "text/plain": [
       "'C1CC1'"
      ]
     },
     "execution_count": 20,
     "metadata": {},
     "output_type": "execute_result"
    }
   ],
   "source": [
    "compute(results['CanonicalSMILES'].iloc[0])[0]"
   ]
  },
  {
   "cell_type": "code",
   "execution_count": 21,
   "metadata": {},
   "outputs": [
    {
     "name": "stdout",
     "output_type": "stream",
     "text": [
      "CPU times: user 5.48 s, sys: 813 ms, total: 6.29 s\n",
      "Wall time: 1min\n"
     ]
    }
   ],
   "source": [
    "%time results['CanonicalSMILES'] = [value[0] for value in results['CanonicalSMILES'].map(compute)]"
   ]
  },
  {
   "cell_type": "code",
   "execution_count": 24,
   "metadata": {},
   "outputs": [
    {
     "data": {
      "text/plain": [
       "pandas.core.frame.DataFrame"
      ]
     },
     "execution_count": 24,
     "metadata": {},
     "output_type": "execute_result"
    }
   ],
   "source": [
    "type(results)"
   ]
  },
  {
   "cell_type": "code",
   "execution_count": 25,
   "metadata": {},
   "outputs": [
    {
     "data": {
      "text/html": [
       "<div>\n",
       "<style scoped>\n",
       "    .dataframe tbody tr th:only-of-type {\n",
       "        vertical-align: middle;\n",
       "    }\n",
       "\n",
       "    .dataframe tbody tr th {\n",
       "        vertical-align: top;\n",
       "    }\n",
       "\n",
       "    .dataframe thead th {\n",
       "        text-align: right;\n",
       "    }\n",
       "</style>\n",
       "<table border=\"1\" class=\"dataframe\">\n",
       "  <thead>\n",
       "    <tr style=\"text-align: right;\">\n",
       "      <th></th>\n",
       "      <th>CTA</th>\n",
       "      <th>Co</th>\n",
       "      <th>CTA_lower</th>\n",
       "      <th>CanonicalSMILES</th>\n",
       "    </tr>\n",
       "  </thead>\n",
       "  <tbody>\n",
       "  </tbody>\n",
       "</table>\n",
       "</div>"
      ],
      "text/plain": [
       "Empty DataFrame\n",
       "Columns: [CTA, Co, CTA_lower, CanonicalSMILES]\n",
       "Index: []"
      ]
     },
     "execution_count": 25,
     "metadata": {},
     "output_type": "execute_result"
    }
   ],
   "source": [
    "results[results['CanonicalSMILES'] == 'X']"
   ]
  },
  {
   "cell_type": "raw",
   "metadata": {},
   "source": [
    "results.to_pickle(\"cta_smiles_table_100_less.pkl\")"
   ]
  },
  {
   "cell_type": "markdown",
   "metadata": {},
   "source": [
    "## ## Dask to get InChIKey \n",
    "\n",
    "This implementation in my opinion is more elegant use of dask's `apply` command wrapper around conventional pandas `apply`. Also here we are defining the `meta` key for the variable since the code doesn't seem to recognise the type of entries we expect in the final output \n",
    "\n",
    "More information about `meta` here: https://docs.dask.org/en/latest/dataframe-api.html"
   ]
  },
  {
   "cell_type": "code",
   "execution_count": 22,
   "metadata": {},
   "outputs": [
    {
     "name": "stderr",
     "output_type": "stream",
     "text": [
      "RDKit WARNING: [21:01:52] Enabling RDKit 2019.09.3 jupyter extensions\n"
     ]
    }
   ],
   "source": [
    "import rdkit\n",
    "from rdkit import Chem\n",
    "from rdkit.Chem import PandasTools\n",
    "from rdkit.Chem import Draw\n",
    "\n",
    "Chem.WrapLogs()\n",
    "lg = rdkit.RDLogger.logger() \n",
    "lg.setLevel(rdkit.RDLogger.CRITICAL)"
   ]
  },
  {
   "cell_type": "code",
   "execution_count": 23,
   "metadata": {},
   "outputs": [],
   "source": [
    "def get_InChiKey(x):\n",
    "    try:\n",
    "        inchi_key =  Chem.MolToInchiKey(Chem.MolFromSmiles(x))\n",
    "    except:\n",
    "        inchi_key = 'X'\n",
    "    return inchi_key\n",
    "\n",
    "def dask_smiles(df):\n",
    "    df['INCHI'] = df['smiles'].map(get_name)\n",
    "    return df"
   ]
  },
  {
   "cell_type": "code",
   "execution_count": 26,
   "metadata": {},
   "outputs": [],
   "source": [
    "results_dask = dd.from_pandas(results, npartitions=10)"
   ]
  },
  {
   "cell_type": "code",
   "execution_count": 27,
   "metadata": {},
   "outputs": [],
   "source": [
    "inchi = results_dask['CanonicalSMILES'].apply(lambda x: Chem.MolToInchiKey(Chem.MolFromSmiles(x)), meta=('inchi_key',str))"
   ]
  },
  {
   "cell_type": "code",
   "execution_count": 29,
   "metadata": {},
   "outputs": [
    {
     "data": {
      "text/plain": [
       "Dask Series Structure:\n",
       "npartitions=10\n",
       "0      object\n",
       "17        ...\n",
       "        ...  \n",
       "153       ...\n",
       "166       ...\n",
       "Name: inchi_key, dtype: object\n",
       "Dask Name: apply, 30 tasks"
      ]
     },
     "execution_count": 29,
     "metadata": {},
     "output_type": "execute_result"
    }
   ],
   "source": [
    "inchi"
   ]
  },
  {
   "cell_type": "code",
   "execution_count": 32,
   "metadata": {},
   "outputs": [
    {
     "data": {
      "image/png": "[encoded data removed]",
      "text/plain": [
       "<IPython.core.display.Image object>"
      ]
     },
     "execution_count": 32,
     "metadata": {},
     "output_type": "execute_result"
    }
   ],
   "source": [
    "inchi.visualize()"
   ]
  },
  {
   "cell_type": "markdown",
   "metadata": {},
   "source": [
    "`inchi` is a new Pandas series which has the `delayed` graphs for computing InChIKeys. We can compute it directly in the `results` dataframe as a new column. This is slightly different from the SMILES implementation above."
   ]
  },
  {
   "cell_type": "code",
   "execution_count": 30,
   "metadata": {},
   "outputs": [
    {
     "name": "stdout",
     "output_type": "stream",
     "text": [
      "CPU times: user 55 ms, sys: 7.56 ms, total: 62.6 ms\n",
      "Wall time: 126 ms\n"
     ]
    }
   ],
   "source": [
    "%time results['INCHI'] = compute(inchi, scheduler = client)[0]"
   ]
  },
  {
   "cell_type": "code",
   "execution_count": 31,
   "metadata": {},
   "outputs": [
    {
     "data": {
      "text/html": [
       "<div>\n",
       "<style scoped>\n",
       "    .dataframe tbody tr th:only-of-type {\n",
       "        vertical-align: middle;\n",
       "    }\n",
       "\n",
       "    .dataframe tbody tr th {\n",
       "        vertical-align: top;\n",
       "    }\n",
       "\n",
       "    .dataframe thead th {\n",
       "        text-align: right;\n",
       "    }\n",
       "</style>\n",
       "<table border=\"1\" class=\"dataframe\">\n",
       "  <thead>\n",
       "    <tr style=\"text-align: right;\">\n",
       "      <th></th>\n",
       "      <th>CTA</th>\n",
       "      <th>Co</th>\n",
       "      <th>CTA_lower</th>\n",
       "      <th>CanonicalSMILES</th>\n",
       "      <th>INCHI</th>\n",
       "    </tr>\n",
       "  </thead>\n",
       "  <tbody>\n",
       "    <tr>\n",
       "      <th>0</th>\n",
       "      <td>Cyclopropane</td>\n",
       "      <td>0.00</td>\n",
       "      <td>cyclopropane</td>\n",
       "      <td>C1CC1</td>\n",
       "      <td>LVZWSLJZHVFIQJ-UHFFFAOYSA-N</td>\n",
       "    </tr>\n",
       "    <tr>\n",
       "      <th>1</th>\n",
       "      <td>Ethylene</td>\n",
       "      <td>0.00</td>\n",
       "      <td>ethylene</td>\n",
       "      <td>C=C</td>\n",
       "      <td>VGGSQFUCUMXWEO-UHFFFAOYSA-N</td>\n",
       "    </tr>\n",
       "    <tr>\n",
       "      <th>2</th>\n",
       "      <td>Methane</td>\n",
       "      <td>0.00</td>\n",
       "      <td>methane</td>\n",
       "      <td>C</td>\n",
       "      <td>VNWKTOKETHGBQD-UHFFFAOYSA-N</td>\n",
       "    </tr>\n",
       "    <tr>\n",
       "      <th>3</th>\n",
       "      <td>Sulfur Hexafluoride</td>\n",
       "      <td>0.00</td>\n",
       "      <td>sulfur hexafluoride</td>\n",
       "      <td>FS(F)(F)(F)(F)F</td>\n",
       "      <td>SFZCNBIFKDRMGX-UHFFFAOYSA-N</td>\n",
       "    </tr>\n",
       "    <tr>\n",
       "      <th>4</th>\n",
       "      <td>Tetramethylsilane</td>\n",
       "      <td>0.00</td>\n",
       "      <td>tetramethylsilane</td>\n",
       "      <td>C[Si](C)(C)C</td>\n",
       "      <td>CZDYPVPMEAXLPK-UHFFFAOYSA-N</td>\n",
       "    </tr>\n",
       "    <tr>\n",
       "      <th>...</th>\n",
       "      <td>...</td>\n",
       "      <td>...</td>\n",
       "      <td>...</td>\n",
       "      <td>...</td>\n",
       "      <td>...</td>\n",
       "    </tr>\n",
       "    <tr>\n",
       "      <th>162</th>\n",
       "      <td>Cyclohexane-1,3-dicarbaldehyde</td>\n",
       "      <td>1.70</td>\n",
       "      <td>cyclohexane-1,3-dicarbaldehyde</td>\n",
       "      <td>C1CC(CC(C1)C=O)C=O</td>\n",
       "      <td>WHKHKMGAZGBKCK-UHFFFAOYSA-N</td>\n",
       "    </tr>\n",
       "    <tr>\n",
       "      <th>163</th>\n",
       "      <td>isobutene</td>\n",
       "      <td>0.02</td>\n",
       "      <td>isobutene</td>\n",
       "      <td>CC(=C)C</td>\n",
       "      <td>VQTUBCCKSQIDNK-UHFFFAOYSA-N</td>\n",
       "    </tr>\n",
       "    <tr>\n",
       "      <th>164</th>\n",
       "      <td>propanal</td>\n",
       "      <td>0.22</td>\n",
       "      <td>propanal</td>\n",
       "      <td>CCC=O</td>\n",
       "      <td>NBBJYMSMWIIQGU-UHFFFAOYSA-N</td>\n",
       "    </tr>\n",
       "    <tr>\n",
       "      <th>165</th>\n",
       "      <td>methyl methacrylate</td>\n",
       "      <td>0.02</td>\n",
       "      <td>methyl methacrylate</td>\n",
       "      <td>CC(=C)C(=O)OC</td>\n",
       "      <td>VVQNEPGJFQJSBK-UHFFFAOYSA-N</td>\n",
       "    </tr>\n",
       "    <tr>\n",
       "      <th>166</th>\n",
       "      <td>vinyl acetate</td>\n",
       "      <td>0.60</td>\n",
       "      <td>vinyl acetate</td>\n",
       "      <td>CC(=O)OC=C</td>\n",
       "      <td>XTXRWKRVRITETP-UHFFFAOYSA-N</td>\n",
       "    </tr>\n",
       "  </tbody>\n",
       "</table>\n",
       "<p>167 rows × 5 columns</p>\n",
       "</div>"
      ],
      "text/plain": [
       "                                CTA    Co                       CTA_lower  \\\n",
       "0                      Cyclopropane  0.00                    cyclopropane   \n",
       "1                          Ethylene  0.00                        ethylene   \n",
       "2                           Methane  0.00                         methane   \n",
       "3               Sulfur Hexafluoride  0.00             sulfur hexafluoride   \n",
       "4                 Tetramethylsilane  0.00               tetramethylsilane   \n",
       "..                              ...   ...                             ...   \n",
       "162  Cyclohexane-1,3-dicarbaldehyde  1.70  cyclohexane-1,3-dicarbaldehyde   \n",
       "163                       isobutene  0.02                       isobutene   \n",
       "164                        propanal  0.22                        propanal   \n",
       "165             methyl methacrylate  0.02             methyl methacrylate   \n",
       "166                   vinyl acetate  0.60                   vinyl acetate   \n",
       "\n",
       "        CanonicalSMILES                        INCHI  \n",
       "0                 C1CC1  LVZWSLJZHVFIQJ-UHFFFAOYSA-N  \n",
       "1                   C=C  VGGSQFUCUMXWEO-UHFFFAOYSA-N  \n",
       "2                     C  VNWKTOKETHGBQD-UHFFFAOYSA-N  \n",
       "3       FS(F)(F)(F)(F)F  SFZCNBIFKDRMGX-UHFFFAOYSA-N  \n",
       "4          C[Si](C)(C)C  CZDYPVPMEAXLPK-UHFFFAOYSA-N  \n",
       "..                  ...                          ...  \n",
       "162  C1CC(CC(C1)C=O)C=O  WHKHKMGAZGBKCK-UHFFFAOYSA-N  \n",
       "163             CC(=C)C  VQTUBCCKSQIDNK-UHFFFAOYSA-N  \n",
       "164               CCC=O  NBBJYMSMWIIQGU-UHFFFAOYSA-N  \n",
       "165       CC(=C)C(=O)OC  VVQNEPGJFQJSBK-UHFFFAOYSA-N  \n",
       "166          CC(=O)OC=C  XTXRWKRVRITETP-UHFFFAOYSA-N  \n",
       "\n",
       "[167 rows x 5 columns]"
      ]
     },
     "execution_count": 31,
     "metadata": {},
     "output_type": "execute_result"
    }
   ],
   "source": [
    "results"
   ]
  },
  {
   "cell_type": "code",
   "execution_count": null,
   "metadata": {},
   "outputs": [],
   "source": []
  }
 ],
 "metadata": {
  "kernelspec": {
   "display_name": "Python 3",
   "language": "python",
   "name": "python3"
  },
  "language_info": {
   "codemirror_mode": {
    "name": "ipython",
    "version": 3
   },
   "file_extension": ".py",
   "mimetype": "text/x-python",
   "name": "python",
   "nbconvert_exporter": "python",
   "pygments_lexer": "ipython3",
   "version": "3.7.6"
  }
 },
 "nbformat": 4,
 "nbformat_minor": 4
}
