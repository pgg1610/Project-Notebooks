{
 "cells": [
  {
   "cell_type": "markdown",
   "metadata": {},
   "source": [
    "## Basic IMDb scrapping \n",
    "\n",
    "The is adopted from this well-made [tutorial/blog](https://www.dataquest.io/blog/web-scraping-beautifulsoup/) \n",
    "\n",
    "Basic web scraper to get list of top movies on IMDb"
   ]
  },
  {
   "cell_type": "code",
   "execution_count": 48,
   "metadata": {},
   "outputs": [],
   "source": [
    "from requests import get \n",
    "import numpy as np \n",
    "import pandas as pd \n",
    "from bs4 import BeautifulSoup\n",
    "\n",
    "#url = 'https://www.imdb.com/search/title/?title_type=feature,tv_movie,documentary&release_date=1800-01-01,&sort=num_votes,desc'\n",
    "url = 'https://www.imdb.com/search/title/?title_type=feature,documentary&release_date=2000-01-01,&countries=in&languages=hi&sort=num_votes,desc'\n",
    "response = get(url)"
   ]
  },
  {
   "cell_type": "raw",
   "metadata": {},
   "source": [
    "response.text[:500]"
   ]
  },
  {
   "cell_type": "code",
   "execution_count": 49,
   "metadata": {},
   "outputs": [],
   "source": [
    "html_soup = BeautifulSoup(response.text, 'html.parser')"
   ]
  },
  {
   "cell_type": "code",
   "execution_count": 74,
   "metadata": {},
   "outputs": [],
   "source": [
    "num_titles = int(''.join(html_soup.find_all('div', class_='desc')[0].find('span').text.split()[-2].split(',')))"
   ]
  },
  {
   "cell_type": "code",
   "execution_count": 77,
   "metadata": {},
   "outputs": [
    {
     "name": "stdout",
     "output_type": "stream",
     "text": [
      "[ 51 101 151 201 251 301 351 401]\n"
     ]
    }
   ],
   "source": [
    "page_iter = np.arange(1,int(num_titles),50)[1:9]"
   ]
  },
  {
   "cell_type": "code",
   "execution_count": 50,
   "metadata": {},
   "outputs": [
    {
     "name": "stdout",
     "output_type": "stream",
     "text": [
      "7\n"
     ]
    }
   ],
   "source": [
    "movie_containers = html_soup.find_all('div', class_='lister-item mode-advanced')\n",
    "print(len(movie_container))"
   ]
  },
  {
   "cell_type": "code",
   "execution_count": 51,
   "metadata": {},
   "outputs": [
    {
     "name": "stdout",
     "output_type": "stream",
     "text": [
      "3 Idiots 2009 8.4 67.0 325503.0\n"
     ]
    }
   ],
   "source": [
    "first_movie = movie_containers[0]\n",
    "name = first_movie.h3.a.text\n",
    "year = first_movie.h3.find('span',class_='lister-item-year text-muted unbold').text.strip('()')\n",
    "ratings = float(first_movie.strong.text)\n",
    "try:\n",
    "    metascore = float(first_movie.find('span', class_='metascore').text.strip())\n",
    "except AttributeError:\n",
    "    metascore = None\n",
    "num_votes = float(''.join(first_movie.find('span', attrs = {'name':'nv'}).text.split(',')))\n",
    "print(name, year, ratings, metascore, num_votes)"
   ]
  },
  {
   "cell_type": "markdown",
   "metadata": {},
   "source": [
    "## Do it for all the entries on the page"
   ]
  },
  {
   "cell_type": "code",
   "execution_count": 52,
   "metadata": {},
   "outputs": [],
   "source": [
    "names, year, rating, metascore, num_votes = [], [], [], [], [] \n",
    "\n",
    "for i, container in enumerate(movie_containers):\n",
    "    container_entry = movie_containers[i] \n",
    "    names.append(container_entry.h3.a.text)\n",
    "    year.append(container_entry.h3.find('span',class_='lister-item-year text-muted unbold').text.strip('()|-'))\n",
    "    rating.append(float(container_entry.strong.text))\n",
    "    num_votes.append(float(''.join(container_entry.find('span', attrs = {'name':'nv'}).text.split(','))))\n",
    "    \n",
    "    try:\n",
    "        metascore.append(float(container_entry.find('span', class_='metascore').text.strip()))\n",
    "    except AttributeError:\n",
    "        metascore.append(np.nan)\n"
   ]
  },
  {
   "cell_type": "code",
   "execution_count": 53,
   "metadata": {},
   "outputs": [
    {
     "name": "stdout",
     "output_type": "stream",
     "text": [
      "<class 'pandas.core.frame.DataFrame'>\n",
      "RangeIndex: 50 entries, 0 to 49\n",
      "Data columns (total 5 columns):\n",
      " #   Column     Non-Null Count  Dtype  \n",
      "---  ------     --------------  -----  \n",
      " 0   name       50 non-null     object \n",
      " 1   year       50 non-null     object \n",
      " 2   rating     50 non-null     float64\n",
      " 3   metascore  13 non-null     float64\n",
      " 4   num_votes  50 non-null     float64\n",
      "dtypes: float64(3), object(2)\n",
      "memory usage: 2.1+ KB\n"
     ]
    }
   ],
   "source": [
    "df_movies = pd.DataFrame({'name':names,'year':year,'rating':rating,'metascore':metascore,'num_votes':num_votes})\n",
    "df_movies.info()"
   ]
  },
  {
   "cell_type": "code",
   "execution_count": 33,
   "metadata": {},
   "outputs": [
    {
     "data": {
      "text/html": [
       "<div>\n",
       "<style scoped>\n",
       "    .dataframe tbody tr th:only-of-type {\n",
       "        vertical-align: middle;\n",
       "    }\n",
       "\n",
       "    .dataframe tbody tr th {\n",
       "        vertical-align: top;\n",
       "    }\n",
       "\n",
       "    .dataframe thead th {\n",
       "        text-align: right;\n",
       "    }\n",
       "</style>\n",
       "<table border=\"1\" class=\"dataframe\">\n",
       "  <thead>\n",
       "    <tr style=\"text-align: right;\">\n",
       "      <th></th>\n",
       "      <th>name</th>\n",
       "      <th>year</th>\n",
       "      <th>rating</th>\n",
       "      <th>metascore</th>\n",
       "      <th>num_votes</th>\n",
       "    </tr>\n",
       "  </thead>\n",
       "  <tbody>\n",
       "    <tr>\n",
       "      <th>0</th>\n",
       "      <td>The Shawshank Redemption</td>\n",
       "      <td>1994</td>\n",
       "      <td>9.3</td>\n",
       "      <td>80.0</td>\n",
       "      <td>2244831.0</td>\n",
       "    </tr>\n",
       "    <tr>\n",
       "      <th>1</th>\n",
       "      <td>The Dark Knight</td>\n",
       "      <td>2008</td>\n",
       "      <td>9.0</td>\n",
       "      <td>84.0</td>\n",
       "      <td>2213428.0</td>\n",
       "    </tr>\n",
       "    <tr>\n",
       "      <th>2</th>\n",
       "      <td>Inception</td>\n",
       "      <td>2010</td>\n",
       "      <td>8.8</td>\n",
       "      <td>74.0</td>\n",
       "      <td>1967761.0</td>\n",
       "    </tr>\n",
       "    <tr>\n",
       "      <th>3</th>\n",
       "      <td>Fight Club</td>\n",
       "      <td>1999</td>\n",
       "      <td>8.8</td>\n",
       "      <td>66.0</td>\n",
       "      <td>1785572.0</td>\n",
       "    </tr>\n",
       "    <tr>\n",
       "      <th>4</th>\n",
       "      <td>Pulp Fiction</td>\n",
       "      <td>1994</td>\n",
       "      <td>8.9</td>\n",
       "      <td>94.0</td>\n",
       "      <td>1758111.0</td>\n",
       "    </tr>\n",
       "  </tbody>\n",
       "</table>\n",
       "</div>"
      ],
      "text/plain": [
       "                       name  year  rating  metascore  num_votes\n",
       "0  The Shawshank Redemption  1994     9.3       80.0  2244831.0\n",
       "1           The Dark Knight  2008     9.0       84.0  2213428.0\n",
       "2                 Inception  2010     8.8       74.0  1967761.0\n",
       "3                Fight Club  1999     8.8       66.0  1785572.0\n",
       "4              Pulp Fiction  1994     8.9       94.0  1758111.0"
      ]
     },
     "execution_count": 33,
     "metadata": {},
     "output_type": "execute_result"
    }
   ],
   "source": [
    "df_movies.head()"
   ]
  },
  {
   "cell_type": "markdown",
   "metadata": {},
   "source": [
    "To mimic human behavior, we’ll vary the amount of waiting `time` between requests by using the `randint()` function from the Python’s random module. `randint()` randomly generates integers within a specified interval."
   ]
  },
  {
   "cell_type": "code",
   "execution_count": 46,
   "metadata": {},
   "outputs": [
    {
     "name": "stdout",
     "output_type": "stream",
     "text": [
      "Time taken for request 1 : 1.004\n",
      "Request: 1.0 | Frequency: 0.9962350554789551 requests / sec\n",
      "Time taken for request 2 : 4.006\n",
      "Request: 2.0 | Frequency: 0.4992270516220966 requests / sec\n",
      "Time taken for request 3 : 7.007\n",
      "Request: 3.0 | Frequency: 0.42815030899650025 requests / sec\n",
      "Time taken for request 4 : 8.012\n",
      "Request: 4.0 | Frequency: 0.49926943689340264 requests / sec\n",
      "Time taken for request 5 : 10.013\n",
      "Request: 5.0 | Frequency: 0.4993336391024237 requests / sec\n"
     ]
    }
   ],
   "source": [
    "import time as time \n",
    "from IPython.core.display import clear_output\n",
    "requests = 0 \n",
    "start_time = time.time()\n",
    "for req_num in range(1,6):\n",
    "    requests += 1.0\n",
    "    time.sleep(np.random.randint(1,4))\n",
    "    elapsed_time = time.time()-start_time\n",
    "    print('Time taken for request {} : {:0.3f}'.format(req_num, elapsed_time))\n",
    "    print('Request: {} | Frequency: {} requests / sec'.format(requests, requests/elapsed_time))\n",
    "clear_output(wait = True)"
   ]
  },
  {
   "cell_type": "code",
   "execution_count": 47,
   "metadata": {},
   "outputs": [],
   "source": [
    "pages = [str(i) for i in range(1,5)]\n",
    "years_url = [str(i) for i in range(2000,2021)]"
   ]
  },
  {
   "cell_type": "code",
   "execution_count": null,
   "metadata": {},
   "outputs": [],
   "source": [
    "url_link = 'https://www.imdb.com/search/title/?title_type=feature,documentary&release_date=2000-01-01,&countries=in&languages=hi&sort=num_votes,desc'\n",
    "response = get(url)"
   ]
  },
  {
   "cell_type": "code",
   "execution_count": 86,
   "metadata": {},
   "outputs": [
    {
     "data": {
      "text/plain": [
       "array([ 51, 101, 151, 201, 251])"
      ]
     },
     "execution_count": 86,
     "metadata": {},
     "output_type": "execute_result"
    }
   ],
   "source": [
    "np.arange(1,300,50)[1:]"
   ]
  },
  {
   "cell_type": "code",
   "execution_count": null,
   "metadata": {},
   "outputs": [],
   "source": []
  }
 ],
 "metadata": {
  "kernelspec": {
   "display_name": "Python 3",
   "language": "python",
   "name": "python3"
  },
  "language_info": {
   "codemirror_mode": {
    "name": "ipython",
    "version": 3
   },
   "file_extension": ".py",
   "mimetype": "text/x-python",
   "name": "python",
   "nbconvert_exporter": "python",
   "pygments_lexer": "ipython3",
   "version": "3.6.7"
  }
 },
 "nbformat": 4,
 "nbformat_minor": 4
}
