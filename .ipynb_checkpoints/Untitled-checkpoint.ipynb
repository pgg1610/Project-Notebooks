{
 "cells": [
  {
   "cell_type": "markdown",
   "metadata": {},
   "source": [
    "# # Notebook looking at S&P 500 data since 2020 \n",
    "\n",
    "- Notebook using `BeautifulSoup` to have a list of S&P 500 companies. Plot their market capital as a function of months. \n",
    "- Want to see that variation of market capitalisation across companies and sectors \n",
    "- Trying to recreate analysis seen else where \n",
    "\n",
    "Skills used: \n",
    "* Panda DateTime data wrangling \n",
    "* Beautifulsoup web scraping "
   ]
  },
  {
   "cell_type": "code",
   "execution_count": 1,
   "metadata": {},
   "outputs": [],
   "source": [
    "from requests import get \n",
    "import numpy as np \n",
    "import pandas as pd \n",
    "from bs4 import BeautifulSoup\n",
    "import time as time \n",
    "from tqdm import tqdm\n",
    "\n",
    "from IPython.core.display import clear_output"
   ]
  },
  {
   "cell_type": "code",
   "execution_count": 2,
   "metadata": {},
   "outputs": [],
   "source": [
    "#----- PLOTTING PARAMS ----# \n",
    "import matplotlib.pyplot as plt\n",
    "from matplotlib.pyplot import cm\n",
    "import seaborn as sns\n",
    "sns.set(style=\"whitegrid\")\n",
    "sns.color_palette(\"husl\")\n",
    "%config InlineBackend.figure_format = 'retina'\n",
    " \n",
    "plot_params = {\n",
    "'font.size' : 22,\n",
    "'axes.titlesize' : 24,\n",
    "'axes.labelsize' : 20,\n",
    "'axes.labelweight' : 'bold',\n",
    "#'lines.linewidth' : 3,\n",
    "#'lines.markersize' : 10,\n",
    "'xtick.labelsize' : 16,\n",
    "'ytick.labelsize' : 16,\n",
    "}\n",
    " \n",
    "plt.rcParams.update(plot_params)"
   ]
  },
  {
   "cell_type": "markdown",
   "metadata": {},
   "source": [
    "\n",
    "## ## First: Get list of S&P 500 companies "
   ]
  },
  {
   "cell_type": "code",
   "execution_count": 10,
   "metadata": {},
   "outputs": [],
   "source": [
    "wiki_url = 'https://en.wikipedia.org/wiki/List_of_S%26P_500_companies'\n",
    "response = get(wiki_url)\n",
    "html_soup = BeautifulSoup(response.text, 'html.parser')\n",
    "tab = html_soup.find(\"table\",{\"class\":\"wikitable sortable\"})"
   ]
  },
  {
   "cell_type": "code",
   "execution_count": null,
   "metadata": {},
   "outputs": [],
   "source": []
  }
 ],
 "metadata": {
  "kernelspec": {
   "display_name": "Python 3",
   "language": "python",
   "name": "python3"
  },
  "language_info": {
   "codemirror_mode": {
    "name": "ipython",
    "version": 3
   },
   "file_extension": ".py",
   "mimetype": "text/x-python",
   "name": "python",
   "nbconvert_exporter": "python",
   "pygments_lexer": "ipython3",
   "version": "3.6.7"
  }
 },
 "nbformat": 4,
 "nbformat_minor": 4
}
