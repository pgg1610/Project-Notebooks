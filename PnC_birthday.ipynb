{
 "cells": [
  {
   "cell_type": "markdown",
   "metadata": {},
   "source": [
    "## ## Solving the birthday problem using simple counting\n",
    "\n",
    "**Question from First Course in Probability (Sheldon Ross):**\n",
    ">Given 20 people, what is the probability that, among the 12 months in the year, there are 4 months containing exactly 2 birthdays and 4 containing exactly 3 birthdays?\n"
   ]
  },
  {
   "cell_type": "code",
   "execution_count": 1,
   "metadata": {},
   "outputs": [],
   "source": [
    "import numpy as np \n",
    "np.random.seed(42)\n",
    "_rand_state = 42"
   ]
  },
  {
   "cell_type": "markdown",
   "metadata": {},
   "source": [
    "### Problem setup"
   ]
  },
  {
   "cell_type": "code",
   "execution_count": 2,
   "metadata": {},
   "outputs": [],
   "source": [
    "month_number = np.arange(1, 13) # array of months \n",
    "number_of_people = 20 #Number of people considered\n",
    "sample = np.random.choice(month_number, size=number_of_people, replace=True, )"
   ]
  },
  {
   "cell_type": "markdown",
   "metadata": {},
   "source": [
    "Here `sample` is the randomized set of 20 birthdays. Each entry is a month. Length of sample is same as number of people in the experiment, 20 in this case. \n",
    "\n",
    "**Highlight cases which satisfy the constraints:**\n",
    "1. 4 months have exactly 2 birthdays \n",
    "2. 4 months have exactly 3 birthdays\n",
    "\n",
    "For that first create an array with frequency of birthdays in each month: "
   ]
  },
  {
   "cell_type": "code",
   "execution_count": 3,
   "metadata": {},
   "outputs": [],
   "source": [
    "frequency = np.zeros(len(month_number)) #This is zeros frequency array\n",
    "for _entry in sample:\n",
    "    if _entry in month_number:\n",
    "        _index = _entry - 1\n",
    "        frequency[_index] = frequency[_index] + 1"
   ]
  },
  {
   "cell_type": "code",
   "execution_count": 4,
   "metadata": {},
   "outputs": [
    {
     "data": {
      "text/plain": [
       "array([ 7,  4, 11,  8,  5,  7, 10,  3,  7, 11, 11,  8,  5,  4,  8,  8,  3,\n",
       "        6,  5,  2])"
      ]
     },
     "execution_count": 4,
     "metadata": {},
     "output_type": "execute_result"
    }
   ],
   "source": [
    "sample"
   ]
  },
  {
   "cell_type": "code",
   "execution_count": 5,
   "metadata": {},
   "outputs": [
    {
     "data": {
      "text/plain": [
       "array([0., 1., 2., 2., 3., 1., 3., 4., 0., 1., 3., 0.])"
      ]
     },
     "execution_count": 5,
     "metadata": {},
     "output_type": "execute_result"
    }
   ],
   "source": [
    "frequency"
   ]
  },
  {
   "cell_type": "markdown",
   "metadata": {},
   "source": [
    "`frequency` array shows how many birthday are there in a month. Once we have that, now we have consider the conditions given in the problem. We can either do this the old route of `for/if` statement or `numpy` has a good function to quickly find the freuqency of entries in a list. `np.argwhere` is used on the frequency list to find the number of months satisfying the conditions. "
   ]
  },
  {
   "cell_type": "code",
   "execution_count": 6,
   "metadata": {},
   "outputs": [
    {
     "data": {
      "text/plain": [
       "2"
      ]
     },
     "execution_count": 6,
     "metadata": {},
     "output_type": "execute_result"
    }
   ],
   "source": [
    "len(np.argwhere(frequency == 2)) "
   ]
  },
  {
   "cell_type": "markdown",
   "metadata": {},
   "source": [
    "Now putting it all together and doing multiple trials. In this case, I do 1,500,000 trials and count the ratio of successes to the total trials. While this process takes time, it is better than remembering permutation and combination formulae ;P \n",
    "\n",
    "This is a variant of monte-carlo simulation."
   ]
  },
  {
   "cell_type": "code",
   "execution_count": 7,
   "metadata": {},
   "outputs": [
    {
     "name": "stdout",
     "output_type": "stream",
     "text": [
      "Probability of success = 0.001046\n"
     ]
    }
   ],
   "source": [
    "# putting it all togther \n",
    "_number_of_trials = 1_500_000\n",
    "_success = 0 \n",
    "  \n",
    "for _ in range(_number_of_trials):\n",
    "\n",
    "    sample = np.random.choice(month_number, size=number_of_people, replace=True)\n",
    "    \n",
    "    frequency = np.zeros( len(month_number) )\n",
    "    for _entry in sample:\n",
    "        if _entry in month_number:\n",
    "            _index = _entry - 1\n",
    "            frequency[_index] = frequency[_index] + 1\n",
    "    \n",
    "    if ( len(np.argwhere(frequency == 2)) == 4 ) and ( len(np.argwhere(frequency == 3)) == 4 ): \n",
    "        _success = _success + 1\n",
    "\n",
    "print('Probability of success = {}'.format(_success / _number_of_trials))"
   ]
  },
  {
   "cell_type": "code",
   "execution_count": null,
   "metadata": {},
   "outputs": [],
   "source": []
  }
 ],
 "metadata": {
  "kernelspec": {
   "display_name": "Python 3",
   "language": "python",
   "name": "python3"
  },
  "language_info": {
   "codemirror_mode": {
    "name": "ipython",
    "version": 3
   },
   "file_extension": ".py",
   "mimetype": "text/x-python",
   "name": "python",
   "nbconvert_exporter": "python",
   "pygments_lexer": "ipython3",
   "version": "3.6.11"
  }
 },
 "nbformat": 4,
 "nbformat_minor": 4
}
