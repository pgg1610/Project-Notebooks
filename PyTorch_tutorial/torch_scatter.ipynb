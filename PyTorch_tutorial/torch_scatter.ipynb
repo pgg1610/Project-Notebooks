{
 "cells": [
  {
   "cell_type": "markdown",
   "metadata": {},
   "source": [
    "## Torch scatter\n",
    "\n",
    "* [Documentation](https://pytorch-scatter.readthedocs.io/en/latest/)\n",
    "* [GitHub](https://github.com/rusty1s/pytorch_scatter)\n",
    "\n",
    "Scatter and segment operations are roughly described as reduce operations based on given \"group-index\" tensor. The `torch_scatter` package builts upon these operations"
   ]
  },
  {
   "cell_type": "code",
   "execution_count": 1,
   "metadata": {},
   "outputs": [],
   "source": [
    "import torch \n",
    "import torch.nn as nn\n",
    "import numpy as np \n",
    "\n",
    "random_seed = 42\n",
    "np.random.seed(42)\n",
    "torch.manual_seed(random_seed);"
   ]
  },
  {
   "cell_type": "markdown",
   "metadata": {},
   "source": [
    "Looking at basic `scatter_` function in PyTorch:\n",
    "You can supply a tensor to new tensor which is either of same dimension or bigger based on the index tensor defined for the source tensor. \n",
    "\n",
    "* Source tensor \n",
    "* Index tensor to indicate what would be the value of the element in the new tensor as borrowed from the source \n",
    "* dimension along which this is iterated -- 0 - along row, 1 along column"
   ]
  },
  {
   "cell_type": "code",
   "execution_count": 3,
   "metadata": {},
   "outputs": [
    {
     "name": "stdout",
     "output_type": "stream",
     "text": [
      "tensor([[0.3904, 0.6009],\n",
      "        [0.2566, 0.7936]])\n"
     ]
    }
   ],
   "source": [
    "x = torch.rand(2,2)\n",
    "print(x)"
   ]
  },
  {
   "cell_type": "code",
   "execution_count": 4,
   "metadata": {},
   "outputs": [
    {
     "data": {
      "text/plain": [
       "tensor([[0.0000, 0.6009, 0.0000],\n",
       "        [0.3904, 0.7936, 0.0000],\n",
       "        [0.2566, 0.0000, 0.0000]])"
      ]
     },
     "execution_count": 4,
     "metadata": {},
     "output_type": "execute_result"
    }
   ],
   "source": [
    "torch.zeros(3, 3).scatter_(0, torch.tensor([[1, 0], [2, 1]]), x)"
   ]
  },
  {
   "cell_type": "markdown",
   "metadata": {},
   "source": [
    "scatter_(dim, index, src) → Tensor\n",
    "\n",
    "index: tells the index which will be used to take the value from source. "
   ]
  },
  {
   "cell_type": "code",
   "execution_count": 5,
   "metadata": {},
   "outputs": [],
   "source": [
    "from torch_scatter import scatter_max \n",
    "\n",
    "src =  torch.tensor([[2, 0, 1, 4, 3], [0, 2, 1, 3, 4]])\n",
    "index = torch.tensor([[4, 5, 4, 2, 3], [0, 0, 2, 2, 1]])\n",
    "out, argmax = scatter_max(src, index, dim=-1)"
   ]
  },
  {
   "cell_type": "code",
   "execution_count": 6,
   "metadata": {},
   "outputs": [
    {
     "name": "stdout",
     "output_type": "stream",
     "text": [
      "tensor([[0, 0, 4, 3, 2, 0],\n",
      "        [2, 4, 3, 0, 0, 0]])\n"
     ]
    }
   ],
   "source": [
    "print(out)"
   ]
  },
  {
   "cell_type": "code",
   "execution_count": 7,
   "metadata": {},
   "outputs": [
    {
     "name": "stdout",
     "output_type": "stream",
     "text": [
      "tensor([[5, 5, 3, 4, 0, 1],\n",
      "        [1, 4, 3, 5, 5, 5]])\n"
     ]
    }
   ],
   "source": [
    "print(argmax)"
   ]
  },
  {
   "cell_type": "code",
   "execution_count": null,
   "metadata": {},
   "outputs": [],
   "source": []
  }
 ],
 "metadata": {
  "kernelspec": {
   "display_name": "Python 3",
   "language": "python",
   "name": "python3"
  },
  "language_info": {
   "codemirror_mode": {
    "name": "ipython",
    "version": 3
   },
   "file_extension": ".py",
   "mimetype": "text/x-python",
   "name": "python",
   "nbconvert_exporter": "python",
   "pygments_lexer": "ipython3",
   "version": "3.6.7"
  }
 },
 "nbformat": 4,
 "nbformat_minor": 4
}
