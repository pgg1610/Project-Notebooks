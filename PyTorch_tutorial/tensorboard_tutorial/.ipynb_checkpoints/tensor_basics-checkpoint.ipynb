{
 "cells": [
  {
   "cell_type": "markdown",
   "metadata": {},
   "source": [
    "## Basic tensor tutorial"
   ]
  },
  {
   "cell_type": "code",
   "execution_count": 1,
   "metadata": {},
   "outputs": [],
   "source": [
    "import torch \n",
    "import numpy as np"
   ]
  },
  {
   "cell_type": "code",
   "execution_count": 2,
   "metadata": {},
   "outputs": [],
   "source": [
    "#Check GPU support\n",
    "if torch.cuda.is_available():\n",
    "    device = torch.device(\"cuda\")"
   ]
  },
  {
   "cell_type": "markdown",
   "metadata": {},
   "source": [
    "`torch.empty` makes empty tensors of the defined size. `size` can be set a single value (scalar), 2D, 3D, n-dimensionals tensors"
   ]
  },
  {
   "cell_type": "code",
   "execution_count": 3,
   "metadata": {},
   "outputs": [
    {
     "name": "stdout",
     "output_type": "stream",
     "text": [
      "tensor([1.8888e+31]) tensor([0., 0., 0.])\n"
     ]
    }
   ],
   "source": [
    "x = torch.empty(1) #Scalar randomly initialized \n",
    "x3 = torch.empty(3) #3D vector randomly initialized \n",
    "print(x,x3)"
   ]
  },
  {
   "cell_type": "code",
   "execution_count": 4,
   "metadata": {},
   "outputs": [
    {
     "name": "stdout",
     "output_type": "stream",
     "text": [
      "tensor([[[[0.0000e+00, 0.0000e+00, 0.0000e+00],\n",
      "          [0.0000e+00, 0.0000e+00, 0.0000e+00]],\n",
      "\n",
      "         [[0.0000e+00, 0.0000e+00, 0.0000e+00],\n",
      "          [0.0000e+00, 0.0000e+00, 0.0000e+00]]],\n",
      "\n",
      "\n",
      "        [[[0.0000e+00, 0.0000e+00, 0.0000e+00],\n",
      "          [0.0000e+00, 0.0000e+00, 0.0000e+00]],\n",
      "\n",
      "         [[0.0000e+00, 7.3468e-40, 0.0000e+00],\n",
      "          [0.0000e+00, 0.0000e+00, 0.0000e+00]]]])\n"
     ]
    }
   ],
   "source": [
    "x4 = torch.empty(2,2,2,3) #\n",
    "print(x4)"
   ]
  },
  {
   "cell_type": "markdown",
   "metadata": {},
   "source": [
    "`numpy` like instantiation works in torch: \n",
    "```python\n",
    "- torch.zeros\n",
    "- torch.ones\n",
    "- torch.rand\n",
    "```\n",
    "Finally we can provide the `dtype` for the tensor as well -- `float64`, `int`, `double`"
   ]
  },
  {
   "cell_type": "code",
   "execution_count": 5,
   "metadata": {},
   "outputs": [
    {
     "name": "stdout",
     "output_type": "stream",
     "text": [
      "tensor([[1, 1],\n",
      "        [1, 1]], dtype=torch.int32) torch.Size([2, 2])\n"
     ]
    }
   ],
   "source": [
    "x = torch.ones(2,2, dtype=torch.int)\n",
    "print(x, x.size())"
   ]
  },
  {
   "cell_type": "code",
   "execution_count": 6,
   "metadata": {},
   "outputs": [
    {
     "name": "stdout",
     "output_type": "stream",
     "text": [
      "tensor([[6.4116e-01],\n",
      "        [8.5331e-01],\n",
      "        [6.6069e-01],\n",
      "        [7.0937e-04],\n",
      "        [4.1202e-01],\n",
      "        [3.2125e-01],\n",
      "        [6.1966e-02],\n",
      "        [9.2504e-01],\n",
      "        [4.7671e-01],\n",
      "        [6.1907e-01]], dtype=torch.float64)\n"
     ]
    }
   ],
   "source": [
    "#Creating tensor from list: \n",
    "list_rand = np.random.rand(10,1)\n",
    "x = torch.tensor(list_rand)\n",
    "print(x)"
   ]
  },
  {
   "cell_type": "markdown",
   "metadata": {},
   "source": [
    "### Tensor operations\n",
    "\n",
    "* z = x + y \n",
    "* z = torch.add(x, y)\n",
    "* z = y.add_(x)\n",
    "\n",
    "Operations -- `mul` `add` `sub` `div`"
   ]
  },
  {
   "cell_type": "code",
   "execution_count": 7,
   "metadata": {},
   "outputs": [
    {
     "name": "stdout",
     "output_type": "stream",
     "text": [
      "tensor([[0.4425, 0.7765],\n",
      "        [0.5643, 0.4267]])\n",
      "tensor([[0.0109, 0.3211],\n",
      "        [0.2134, 0.1709]])\n"
     ]
    }
   ],
   "source": [
    "x = torch.rand(2,2)\n",
    "y = torch.rand(2,2)\n",
    "print(x)\n",
    "print(y)"
   ]
  },
  {
   "cell_type": "code",
   "execution_count": 8,
   "metadata": {},
   "outputs": [
    {
     "name": "stdout",
     "output_type": "stream",
     "text": [
      "tensor([[0.4534, 1.0976],\n",
      "        [0.7777, 0.5976]])\n"
     ]
    }
   ],
   "source": [
    "z = x + y\n",
    "#OR and better method\n",
    "z = torch.add(x,y)\n",
    "print(z)"
   ]
  },
  {
   "cell_type": "code",
   "execution_count": 9,
   "metadata": {},
   "outputs": [
    {
     "name": "stdout",
     "output_type": "stream",
     "text": [
      "tensor([[0.4534, 1.0976],\n",
      "        [0.7777, 0.5976]])\n"
     ]
    }
   ],
   "source": [
    "#In-place addition -- any variable with _ trailing it will to in-place operation \n",
    "y.add_(x)\n",
    "print(y)"
   ]
  },
  {
   "cell_type": "code",
   "execution_count": 10,
   "metadata": {},
   "outputs": [
    {
     "name": "stdout",
     "output_type": "stream",
     "text": [
      "tensor([[0.2006, 0.8522],\n",
      "        [0.4389, 0.2550]])\n"
     ]
    }
   ],
   "source": [
    "z_mult = torch.mul(x,y) #element-wise multiplication\n",
    "print(z_mult)"
   ]
  },
  {
   "cell_type": "code",
   "execution_count": 11,
   "metadata": {},
   "outputs": [
    {
     "name": "stdout",
     "output_type": "stream",
     "text": [
      "tensor([[0.0286, 0.9108, 0.2512],\n",
      "        [0.7375, 0.6428, 0.0700],\n",
      "        [0.2741, 0.7752, 0.1103],\n",
      "        [0.7669, 0.8678, 0.7977],\n",
      "        [0.8949, 0.7576, 0.4876]])\n",
      "tensor([0.0286, 0.7375, 0.2741, 0.7669, 0.8949])\n",
      "tensor(0.6428)\n"
     ]
    }
   ],
   "source": [
    "#Slicing operations \n",
    "x = torch.rand(5,3)\n",
    "print(x)\n",
    "print(x[:,0]) #0th column -- all rows \n",
    "print(x[1,1])"
   ]
  },
  {
   "cell_type": "code",
   "execution_count": 12,
   "metadata": {},
   "outputs": [
    {
     "name": "stdout",
     "output_type": "stream",
     "text": [
      "tensor([[0.7477, 0.9545, 0.8371, 0.9566],\n",
      "        [0.0519, 0.1198, 0.2492, 0.5988],\n",
      "        [0.5605, 0.4806, 0.5125, 0.9870],\n",
      "        [0.7686, 0.6541, 0.7816, 0.9467]])\n",
      "tensor([[0.7477, 0.9545, 0.8371, 0.9566, 0.0519, 0.1198, 0.2492, 0.5988],\n",
      "        [0.5605, 0.4806, 0.5125, 0.9870, 0.7686, 0.6541, 0.7816, 0.9467]])\n"
     ]
    }
   ],
   "source": [
    "#Reshaping a tensor \n",
    "x = torch.rand(4,4)\n",
    "print(x)\n",
    "y = x.view(-1,8) #Like numpy, -1 is the place hold for the dimension which takes reminder of elements \n",
    "print(y)"
   ]
  },
  {
   "cell_type": "markdown",
   "metadata": {},
   "source": [
    "## Converting torch tensors to numpy \n",
    "\n",
    "Here be careful that numpy tensors can only be handeled on the CPU and not on the GPU thus we will have to move the GPU tensors back to CPU. Also, the tensor being converted to numpy or vice-versa share the same memory location (if on CPU) so they will be linked. \n",
    "\n",
    "```python\n",
    "if torch.cude.is_available():\n",
    "    device = torch.device(\"cuda\")\n",
    "    x = torch.ones(5, device = device) #Directly on GPU \n",
    "    y = torch.ones(5) #Made on CPU \n",
    "    y = y.to(device) #Sent to GPU \n",
    "    \n",
    "    z = x + y \n",
    "    z.to(\"cpu\") \n",
    "```"
   ]
  },
  {
   "cell_type": "code",
   "execution_count": 13,
   "metadata": {},
   "outputs": [
    {
     "name": "stdout",
     "output_type": "stream",
     "text": [
      "tensor([0.6440, 0.9498, 0.7319, 0.9332, 0.8487, 0.3334, 0.7086, 0.7679, 0.8033,\n",
      "        0.8007])\n",
      "<class 'numpy.ndarray'>\n"
     ]
    }
   ],
   "source": [
    "# Torch to numpy array \n",
    "a = torch.rand(10)\n",
    "print(a) \n",
    "b = a.numpy() \n",
    "print(type(b))"
   ]
  },
  {
   "cell_type": "markdown",
   "metadata": {},
   "source": [
    "> NOTE: However both `a` and `b` share the same memory and thus point to same memory location -- so any edit to `a` would be made to `b` as well. "
   ]
  },
  {
   "cell_type": "code",
   "execution_count": 14,
   "metadata": {},
   "outputs": [
    {
     "name": "stdout",
     "output_type": "stream",
     "text": [
      "tensor([1.6440, 1.9498, 1.7319, 1.9332, 1.8487, 1.3334, 1.7086, 1.7679, 1.8033,\n",
      "        1.8007])\n",
      "[1.6439948 1.9498271 1.7319177 1.933162  1.8486525 1.3334291 1.7085993\n",
      " 1.7678998 1.8033237 1.8007493]\n"
     ]
    }
   ],
   "source": [
    "a.add_(1.0)\n",
    "print(a)\n",
    "print(b)"
   ]
  },
  {
   "cell_type": "code",
   "execution_count": 15,
   "metadata": {},
   "outputs": [
    {
     "name": "stdout",
     "output_type": "stream",
     "text": [
      "tensor([1.6440, 1.9498, 1.7319, 1.9332, 1.8487, 1.3334, 1.7086, 1.7679, 1.8033,\n",
      "        1.8007])\n"
     ]
    }
   ],
   "source": [
    "#From numpy to tensor \n",
    "b1 = torch.from_numpy(b)\n",
    "print(b1)"
   ]
  },
  {
   "cell_type": "markdown",
   "metadata": {},
   "source": [
    "### To have a variable that is supposed to be optimized "
   ]
  },
  {
   "cell_type": "code",
   "execution_count": 17,
   "metadata": {},
   "outputs": [],
   "source": [
    "x = torch.ones(5, requires_grad = True)"
   ]
  },
  {
   "cell_type": "code",
   "execution_count": 18,
   "metadata": {},
   "outputs": [
    {
     "name": "stdout",
     "output_type": "stream",
     "text": [
      "tensor([1., 1., 1., 1., 1.], requires_grad=True)\n"
     ]
    }
   ],
   "source": [
    "print(x)"
   ]
  },
  {
   "cell_type": "code",
   "execution_count": null,
   "metadata": {},
   "outputs": [],
   "source": []
  }
 ],
 "metadata": {
  "kernelspec": {
   "display_name": "Python 3",
   "language": "python",
   "name": "python3"
  },
  "language_info": {
   "codemirror_mode": {
    "name": "ipython",
    "version": 3
   },
   "file_extension": ".py",
   "mimetype": "text/x-python",
   "name": "python",
   "nbconvert_exporter": "python",
   "pygments_lexer": "ipython3",
   "version": "3.6.7"
  }
 },
 "nbformat": 4,
 "nbformat_minor": 4
}
