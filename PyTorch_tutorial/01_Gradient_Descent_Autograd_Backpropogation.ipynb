{
 "cells": [
  {
   "cell_type": "markdown",
   "metadata": {},
   "source": [
    "## Gradient Descent with Autograd and Backpropogation\n",
    "\n",
    "Implement toy example for gradient descent"
   ]
  },
  {
   "cell_type": "code",
   "execution_count": 1,
   "metadata": {},
   "outputs": [],
   "source": [
    "import numpy as np \n",
    "import torch "
   ]
  },
  {
   "cell_type": "code",
   "execution_count": 2,
   "metadata": {},
   "outputs": [
    {
     "name": "stdout",
     "output_type": "stream",
     "text": [
      "Prediction before training f(5) = 0.000\n",
      "epoch 1: W = 1.200, loss = 30.00000000\n",
      "epoch 5: W = 1.980, loss = 0.01966083\n",
      "epoch 9: W = 1.999, loss = 0.00001288\n",
      "epoch 13: W = 2.000, loss = 0.00000001\n",
      "epoch 17: W = 2.000, loss = 0.00000000\n",
      "Prediction before training f(5) = 10.000\n"
     ]
    }
   ],
   "source": [
    "#Doing everything manually using numpy -- using for-loops |\n",
    "\n",
    "#f = w * x \n",
    "#f = 2 * x\n",
    "\n",
    "X = np.array([1,2,3,4], dtype=np.float32)\n",
    "Y = 2 * X\n",
    "\n",
    "W = 0.0\n",
    "\n",
    "#model prediction \n",
    "def forward(x):\n",
    "    return W * x \n",
    "\n",
    "#loss function -- Mean squared error \n",
    "def loss(y,y_predicted):\n",
    "    return ((y_predicted - y)**2).mean()\n",
    "\n",
    "#gradient \n",
    "#MSE = 1/N * (w*x -y)**2\n",
    "#dJ/dW = 1/N * 2x (w*x - y)\n",
    "def gradient(x, y, y_predicted):\n",
    "    return np.dot(2*x, y_predicted-y).mean()\n",
    "\n",
    "print(f'Prediction before training f(5) = {forward(5):.3f}')\n",
    "\n",
    "#Training \n",
    "learning_rate = 0.01 \n",
    "n_iters = 20\n",
    "\n",
    "for epoch in range(n_iters):\n",
    "    # prediction = forward pass\n",
    "    y_pred = forward(X)\n",
    "    \n",
    "    #loss \n",
    "    l = loss(Y, y_pred)\n",
    "    \n",
    "    #gradient \n",
    "    dw = gradient(X, Y, y_pred)\n",
    "    \n",
    "    #update weights\n",
    "    W -= learning_rate * dw \n",
    "    \n",
    "    if epoch % 4 == 0: \n",
    "        print(f'epoch {epoch+1}: W = {W:.3f}, loss = {l:.8f}')\n",
    "\n",
    "print(f'Prediction before training f(5) = {forward(5):.3f}')        "
   ]
  },
  {
   "cell_type": "markdown",
   "metadata": {},
   "source": [
    "### Torch implementation \n",
    "Let's do the same example using PyTorch "
   ]
  },
  {
   "cell_type": "code",
   "execution_count": 3,
   "metadata": {},
   "outputs": [
    {
     "name": "stdout",
     "output_type": "stream",
     "text": [
      "Prediction before training f(5) = 0.000\n",
      "epoch 1: W = 0.300, loss = 30.00000000\n",
      "epoch 21: W = 1.934, loss = 0.04506890\n",
      "epoch 41: W = 1.997, loss = 0.00006770\n",
      "epoch 61: W = 2.000, loss = 0.00000010\n",
      "epoch 81: W = 2.000, loss = 0.00000000\n",
      "Prediction before training f(5) = 10.000\n"
     ]
    }
   ],
   "source": [
    "#Doing everything manually using numpy -- using for-loops |\n",
    "\n",
    "#f = w * x \n",
    "#f = 2 * x\n",
    "\n",
    "X = torch.tensor([1,2,3,4], dtype=torch.float32)\n",
    "Y = torch.mul(2.0, X)\n",
    "W = torch.tensor(0.0, dtype=torch.float32, requires_grad=True)\n",
    "\n",
    "#model prediction \n",
    "def forward(x):\n",
    "    return W * x \n",
    "\n",
    "#loss function -- Mean squared error \n",
    "def loss(y,y_predicted):\n",
    "    return ((y_predicted - y)**2).mean()\n",
    "\n",
    "#gradient \n",
    "#MSE = 1/N * (w*x -y)**2\n",
    "#dJ/dW = 1/N * 2x (w*x - y)\n",
    "def gradient(x, y, y_predicted):\n",
    "    return np.dot(2*x, y_predicted-y).mean()\n",
    "\n",
    "print(f'Prediction before training f(5) = {forward(5):.3f}')\n",
    "\n",
    "#Training \n",
    "learning_rate = 0.01 \n",
    "n_iters = 100\n",
    "\n",
    "for epoch in range(n_iters):\n",
    "    # prediction = forward pass\n",
    "    y_pred = forward(X)\n",
    "    \n",
    "    #loss \n",
    "    l = loss(Y, y_pred)\n",
    "    \n",
    "    #gradient = backward - pass \n",
    "    l.backward() #dL/dW done this automatically \n",
    "    \n",
    "    #update weights -- before updating the weight we have detach the gradients and make them zero \n",
    "    with torch.no_grad():\n",
    "        W -= learning_rate * W.grad \n",
    "    \n",
    "    W.grad.zero_()\n",
    "    \n",
    "    if epoch % 20 == 0: \n",
    "        print(f'epoch {epoch+1}: W = {W:.3f}, loss = {l:.8f}')\n",
    "\n",
    "print(f'Prediction before training f(5) = {forward(5):.3f}')      "
   ]
  },
  {
   "cell_type": "markdown",
   "metadata": {},
   "source": [
    "It can be seen that the weight value we get using the `backward` function for the PyTorch routine is not as precise as the numerical gradient descent this is due to in-built method being slightly different than the vanilla gradient descent algorithm. "
   ]
  },
  {
   "cell_type": "markdown",
   "metadata": {},
   "source": [
    "## Using PyTorch's optimizers and loss criterion\n",
    "\n",
    "1. Design model (input, output size, forward pass) \n",
    "2. Construct loss function and optimizer \n",
    "3. Training loop \n",
    "    - forward pass: compute prediction \n",
    "    - backward pass: gradients \n",
    "    - update weights using gradient descent "
   ]
  },
  {
   "cell_type": "code",
   "execution_count": 4,
   "metadata": {},
   "outputs": [
    {
     "name": "stdout",
     "output_type": "stream",
     "text": [
      "Prediction before training f(5) = -3.913\n",
      "epoch 1: W = -0.480, loss = 55.24893951\n",
      "epoch 21: W = 1.517, loss = 0.30566832\n",
      "epoch 41: W = 1.593, loss = 0.23852304\n",
      "epoch 61: W = 1.618, loss = 0.21154271\n",
      "epoch 81: W = 1.641, loss = 0.18763362\n",
      "epoch 101: W = 1.661, loss = 0.16642678\n",
      "epoch 121: W = 1.681, loss = 0.14761679\n",
      "epoch 141: W = 1.700, loss = 0.13093269\n",
      "epoch 161: W = 1.717, loss = 0.11613436\n",
      "epoch 181: W = 1.734, loss = 0.10300860\n",
      "epoch 201: W = 1.749, loss = 0.09136640\n",
      "epoch 221: W = 1.764, loss = 0.08103992\n",
      "epoch 241: W = 1.778, loss = 0.07188058\n",
      "epoch 261: W = 1.790, loss = 0.06375644\n",
      "epoch 281: W = 1.803, loss = 0.05655050\n",
      "Prediction before training f(5) = 9.616\n"
     ]
    }
   ],
   "source": [
    "#PyTorch Implementation \n",
    "#f = w * x \n",
    "#f = 2 * x\n",
    "\n",
    "import torch \n",
    "import torch.nn as nn \n",
    "\n",
    "#Defining the input vector with new shape \n",
    "X = torch.tensor([[1],[2],[3],[4]], dtype=torch.float32)\n",
    "Y = torch.mul(2.0, X)\n",
    "W = torch.tensor(0.0, dtype=torch.float32, requires_grad=True)\n",
    "X_test = torch.tensor([5], dtype=torch.float32)\n",
    "\n",
    "n_samples, n_features = X.shape\n",
    "\n",
    "#model prediction \n",
    "#def forward(x):\n",
    "#    return W * x \n",
    "# Replace with PyTorch model \n",
    "\n",
    "input_size = n_features\n",
    "output_size = n_features\n",
    "\n",
    "class LinearRegression(nn.Module):\n",
    "    def __init__(self, input_dim, output_dim):\n",
    "        super(LinearRegression, self).__init__()\n",
    "        self.lin = nn.Linear(input_dim, output_dim)\n",
    "    def forward(self, x):\n",
    "        return self.lin(x)\n",
    "\n",
    "#model = nn.Linear(input_size, output_size)\n",
    "model = LinearRegression(input_size, output_size)\n",
    "\n",
    "#loss function -- Mean squared error \n",
    "#def loss(y,y_predicted):\n",
    "#    return ((y_predicted - y)**2).mean()\n",
    "# NOW: Defined from Pytorch\n",
    "\n",
    "loss = nn.MSELoss()\n",
    "learning_rate = 0.01\n",
    "optimizer = torch.optim.SGD(model.parameters(), lr=learning_rate)\n",
    "\n",
    "#gradient \n",
    "#MSE = 1/N * (w*x -y)**2\n",
    "#dJ/dW = 1/N * 2x (w*x - y)\n",
    "#def gradient(x, y, y_predicted):\n",
    "#    return np.dot(2*x, y_predicted-y).mean()\n",
    "\n",
    "print(f'Prediction before training f(5) = {model(X_test).item():.3f}')\n",
    "\n",
    "#Training \n",
    "learning_rate = 0.08\n",
    "n_iters = 300\n",
    "\n",
    "for epoch in range(n_iters):     "
   ]
  },
  {
   "cell_type": "markdown",
   "metadata": {},
   "source": [
    "Again, as seen here, the GradientDescent implementation here is not as accurate as the numerical implementation but it much faster and scalable. "
   ]
  },
  {
   "cell_type": "code",
   "execution_count": null,
   "metadata": {},
   "outputs": [],
   "source": []
  }
 ],
 "metadata": {
  "kernelspec": {
   "display_name": "Python 3",
   "language": "python",
   "name": "python3"
  },
  "language_info": {
   "codemirror_mode": {
    "name": "ipython",
    "version": 3
   },
   "file_extension": ".py",
   "mimetype": "text/x-python",
   "name": "python",
   "nbconvert_exporter": "python",
   "pygments_lexer": "ipython3",
   "version": "3.6.7"
  }
 },
 "nbformat": 4,
 "nbformat_minor": 4
}
