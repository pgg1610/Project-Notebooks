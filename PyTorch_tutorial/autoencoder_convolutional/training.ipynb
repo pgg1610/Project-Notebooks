{
 "cells": [
  {
   "cell_type": "markdown",
   "metadata": {},
   "source": [
    "## Training the ConvVAE on MNIST dataset"
   ]
  },
  {
   "cell_type": "code",
   "execution_count": 1,
   "metadata": {},
   "outputs": [],
   "source": [
    "import os \n",
    "import numpy as np \n",
    "\n",
    "import torch\n",
    "import torch.optim as optim\n",
    "import torch.nn as nn\n",
    "import torchvision.transforms as transforms\n",
    "import torchvision\n",
    "from torch.utils.data import DataLoader\n",
    "from torchvision.utils import make_grid\n",
    "import torch.nn.functional as F\n",
    "\n",
    "import matplotlib.pyplot as plt \n",
    "import matplotlib as mpl\n",
    "\n",
    "import src.model as model\n",
    "from src.utils import train, validate, save_reconstructed_image, create_gifs, plot_loss"
   ]
  },
  {
   "cell_type": "code",
   "execution_count": 2,
   "metadata": {},
   "outputs": [],
   "source": [
    "device = torch.device('cuda' if torch.cuda.is_available() else 'cpu')\n",
    "# initialize the model\n",
    "model = model.ConvVAE().to(device)"
   ]
  },
  {
   "cell_type": "code",
   "execution_count": 3,
   "metadata": {},
   "outputs": [],
   "source": [
    "# set the learning parameters\n",
    "lr = 0.001\n",
    "epochs = 100\n",
    "batch_size = 64\n",
    "optimizer = optim.Adam(model.parameters(), lr=lr)\n",
    "criterion = nn.BCELoss(reduction='sum')"
   ]
  },
  {
   "cell_type": "code",
   "execution_count": 4,
   "metadata": {},
   "outputs": [],
   "source": [
    "# a list to save all the reconstructed images in PyTorch grid format\n",
    "grid_images = []\n",
    "\n",
    "#Convert original images (28 x 28) to (32 x 32)\n",
    "transform = transforms.Compose([\n",
    "    transforms.Resize((32, 32)),\n",
    "    transforms.ToTensor(),\n",
    "])"
   ]
  },
  {
   "cell_type": "code",
   "execution_count": 5,
   "metadata": {},
   "outputs": [
    {
     "name": "stdout",
     "output_type": "stream",
     "text": [
      "MNIST dataset with 60000 train data and 10000 test data\n",
      "Type of data in dataset: <class 'torch.Tensor'> AND <class 'int'>\n",
      "Input tensor image dimensions: torch.Size([1, 28, 28])\n"
     ]
    }
   ],
   "source": [
    "#Import MNIST dataset\n",
    "train_dataset = torchvision.datasets.MNIST(root='input/',\n",
    "                                           train=True,\n",
    "                                           transform=torchvision.transforms.ToTensor(),\n",
    "                                           download=True)\n",
    "\n",
    "val_dataset = torchvision.datasets.MNIST(root='input/',\n",
    "                                           train=False,\n",
    "                                           transform=torchvision.transforms.ToTensor(),\n",
    "                                           download=True)\n",
    "input_tensor, label = train_dataset[0]\n",
    "print('MNIST dataset with {} train data and {} test data'.format(len(train_dataset), len(val_dataset)))\n",
    "print('Type of data in dataset: {} AND {}'.format(type(input_tensor), type(label)))\n",
    "print('Input tensor image dimensions: {}'.format(input_tensor.shape))"
   ]
  },
  {
   "cell_type": "code",
   "execution_count": 6,
   "metadata": {},
   "outputs": [
    {
     "name": "stdout",
     "output_type": "stream",
     "text": [
      "Digit label: 6\n"
     ]
    },
    {
     "data": {
      "image/png": "[encoded data removed]",
      "text/plain": [
       "<Figure size 432x288 with 1 Axes>"
      ]
     },
     "metadata": {
      "needs_background": "light"
     },
     "output_type": "display_data"
    }
   ],
   "source": [
    "#Plot the data\n",
    "mpl.rc('axes', labelsize=14)\n",
    "mpl.rc('xtick', labelsize=12)\n",
    "mpl.rc('ytick', labelsize=12)\n",
    "\n",
    "# look at one random sample\n",
    "random_index = np.random.choice(len(train_dataset))\n",
    "input_tesor, label = train_dataset[random_index]\n",
    "\n",
    "#Visualize only the one channel -- \n",
    "plt.imshow(input_tesor[0], cmap=mpl.cm.binary, interpolation=\"nearest\")\n",
    "plt.axis(\"off\");\n",
    "print('Digit label: {}'.format(label))"
   ]
  },
  {
   "cell_type": "code",
   "execution_count": 7,
   "metadata": {},
   "outputs": [
    {
     "name": "stdout",
     "output_type": "stream",
     "text": [
      "torch.Size([64, 1, 28, 28]) torch.Size([64])\n"
     ]
    },
    {
     "data": {
      "image/png": "[encoded data removed]",
      "text/plain": [
       "<Figure size 432x288 with 9 Axes>"
      ]
     },
     "metadata": {
      "needs_background": "light"
     },
     "output_type": "display_data"
    }
   ],
   "source": [
    "#Convert dataset to a dataloader class for ease of doing batching and SGD operations \n",
    "from torch.utils.data import Dataset, DataLoader\n",
    "train_loader = DataLoader(dataset = train_dataset,\n",
    "                          batch_size = batch_size,\n",
    "                          shuffle=True,\n",
    "                          num_workers = 2)\n",
    "\n",
    "val_loader = DataLoader(dataset = val_dataset,\n",
    "                        batch_size = batch_size, \n",
    "                        num_workers = 2)\n",
    "\n",
    "#Take a look at one batch \n",
    "examples = iter(train_loader)\n",
    "samples, labels = examples.next()\n",
    "print(samples.shape, labels.shape)\n",
    "\n",
    "#Plotting first 4 digits in the dataset: \n",
    "for i in range(9):\n",
    "    plt.subplot(3, 3, i+1)\n",
    "    plt.imshow(samples[i][0], cmap=mpl.cm.binary, interpolation=\"nearest\")\n",
    "    plt.axis(\"off\");"
   ]
  },
  {
   "cell_type": "code",
   "execution_count": 8,
   "metadata": {},
   "outputs": [
    {
     "data": {
      "text/plain": [
       "torch.Size([64, 1, 28, 28])"
      ]
     },
     "execution_count": 8,
     "metadata": {},
     "output_type": "execute_result"
    }
   ],
   "source": [
    "samples.shape"
   ]
  },
  {
   "cell_type": "code",
   "execution_count": 9,
   "metadata": {},
   "outputs": [],
   "source": [
    "image_channels = 1 # MNIST dataset has grayscale digit image \n",
    "init_channels = 8 # Initial number of filters used by the ConvNet\n",
    "kernel_size = 4 # Kernel size for the Conv Filter \n",
    "latent_dimensions = 16 # Dimensionality of the bottleneck layer \n",
    "\n",
    "enc1 = nn.Conv2d(\n",
    "in_channels=image_channels, out_channels=init_channels, kernel_size=kernel_size, \n",
    "stride=1, padding=1)\n",
    "\n",
    "enc2 = nn.Conv2d(\n",
    "in_channels=init_channels, out_channels=init_channels*2, kernel_size=kernel_size, \n",
    "stride=1, padding=1)\n",
    "\n",
    "enc3 = nn.Conv2d(\n",
    "in_channels=init_channels*2, out_channels=init_channels*3, kernel_size=kernel_size, \n",
    "stride=2, padding=1)\n",
    "\n",
    "enc4 = nn.Conv2d(\n",
    "in_channels=init_channels*3, out_channels=64, kernel_size=kernel_size, \n",
    "stride=2, padding=0)"
   ]
  },
  {
   "cell_type": "code",
   "execution_count": 10,
   "metadata": {},
   "outputs": [
    {
     "name": "stdout",
     "output_type": "stream",
     "text": [
      "torch.Size([64, 8, 27, 27])\n",
      "torch.Size([64, 16, 26, 26])\n",
      "torch.Size([64, 24, 13, 13])\n",
      "torch.Size([64, 64, 5, 5])\n"
     ]
    }
   ],
   "source": [
    "x = enc1(samples)\n",
    "print(x.shape)\n",
    "x = enc2(x)\n",
    "print(x.shape)\n",
    "x = enc3(x)\n",
    "print(x.shape)\n",
    "x = enc4(x)\n",
    "print(x.shape)"
   ]
  },
  {
   "cell_type": "code",
   "execution_count": 11,
   "metadata": {},
   "outputs": [],
   "source": [
    "batch, _, _, _ = x.shape"
   ]
  },
  {
   "cell_type": "code",
   "execution_count": 12,
   "metadata": {},
   "outputs": [],
   "source": [
    "x = F.adaptive_avg_pool2d(x, 1).reshape(batch, -1)"
   ]
  },
  {
   "cell_type": "code",
   "execution_count": 13,
   "metadata": {},
   "outputs": [
    {
     "data": {
      "text/plain": [
       "torch.Size([64, 64])"
      ]
     },
     "execution_count": 13,
     "metadata": {},
     "output_type": "execute_result"
    }
   ],
   "source": [
    "x.shape"
   ]
  },
  {
   "cell_type": "code",
   "execution_count": null,
   "metadata": {},
   "outputs": [
    {
     "name": "stdout",
     "output_type": "stream",
     "text": [
      "Epoch 1 of 100\n"
     ]
    },
    {
     "name": "stderr",
     "output_type": "stream",
     "text": [
      "  0%|          | 0/937 [00:00<?, ?it/s]"
     ]
    }
   ],
   "source": [
    "train_loss = []\n",
    "val_loss = []\n",
    "\n",
    "for epoch in range(epochs):\n",
    "    print(f\"Epoch {epoch+1} of {epochs}\")\n",
    "\n",
    "    train_epoch_loss = train(model, train_loader, train_dataset, device, optimizer, criterion)\n",
    "\n",
    "    valid_epoch_loss, reconstructed_images = validate(model, val_loader, val_dataset, device, criterion)\n",
    "\n",
    "    train_loss.append(train_epoch_loss)\n",
    "    valid_loss.append(valid_epoch_loss)\n",
    "    \n",
    "    # save the reconstructed images from the validation loop\n",
    "    save_reconstructed_images(recon_images, epoch+1)\n",
    "\n",
    "    # convert the reconstructed images to PyTorch image grid format\n",
    "    image_grid = make_grid(recon_images.detach().cpu())\n",
    "    grid_images.append(image_grid)\n",
    "    print(f\"Train Loss: {train_epoch_loss:.4f}\")\n",
    "    print(f\"Val Loss: {valid_epoch_loss:.4f}\")"
   ]
  },
  {
   "cell_type": "code",
   "execution_count": null,
   "metadata": {},
   "outputs": [],
   "source": []
  }
 ],
 "metadata": {
  "kernelspec": {
   "display_name": "Python 3",
   "language": "python",
   "name": "python3"
  },
  "language_info": {
   "codemirror_mode": {
    "name": "ipython",
    "version": 3
   },
   "file_extension": ".py",
   "mimetype": "text/x-python",
   "name": "python",
   "nbconvert_exporter": "python",
   "pygments_lexer": "ipython3",
   "version": "3.6.11"
  }
 },
 "nbformat": 4,
 "nbformat_minor": 4
}
